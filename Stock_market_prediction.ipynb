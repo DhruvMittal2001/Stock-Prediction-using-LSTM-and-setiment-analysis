{
 "cells": [
  {
   "cell_type": "code",
   "execution_count": 1,
   "metadata": {},
   "outputs": [
    {
     "name": "stderr",
     "output_type": "stream",
     "text": [
      "ERROR: Could not find a version that satisfies the requirement warnings (from versions: none)\n",
      "ERROR: No matching distribution found for warnings\n",
      "ERROR: Could not find a version that satisfies the requirement math (from versions: none)\n",
      "ERROR: No matching distribution found for math\n"
     ]
    },
    {
     "name": "stdout",
     "output_type": "stream",
     "text": [
      "Requirement already satisfied: pandas in c:\\users\\shantanu\\appdata\\local\\programs\\python\\python310\\lib\\site-packages (1.5.3)\n",
      "Requirement already satisfied: pytz>=2020.1 in c:\\users\\shantanu\\appdata\\local\\programs\\python\\python310\\lib\\site-packages (from pandas) (2022.7.1)\n",
      "Requirement already satisfied: python-dateutil>=2.8.1 in c:\\users\\shantanu\\appdata\\local\\programs\\python\\python310\\lib\\site-packages (from pandas) (2.8.2)\n",
      "Requirement already satisfied: numpy>=1.21.0 in c:\\users\\shantanu\\appdata\\local\\programs\\python\\python310\\lib\\site-packages (from pandas) (1.24.2)\n",
      "Requirement already satisfied: six>=1.5 in c:\\users\\shantanu\\appdata\\local\\programs\\python\\python310\\lib\\site-packages (from python-dateutil>=2.8.1->pandas) (1.16.0)\n",
      "Requirement already satisfied: numpy in c:\\users\\shantanu\\appdata\\local\\programs\\python\\python310\\lib\\site-packages (1.24.2)\n"
     ]
    },
    {
     "name": "stderr",
     "output_type": "stream",
     "text": [
      "ERROR: Could not find a version that satisfies the requirement matplotlib.pyplot (from versions: none)\n",
      "ERROR: No matching distribution found for matplotlib.pyplot\n"
     ]
    },
    {
     "name": "stdout",
     "output_type": "stream",
     "text": [
      "Requirement already satisfied: seaborn in c:\\users\\shantanu\\appdata\\local\\programs\\python\\python310\\lib\\site-packages (0.12.2)\n",
      "Requirement already satisfied: matplotlib!=3.6.1,>=3.1 in c:\\users\\shantanu\\appdata\\local\\programs\\python\\python310\\lib\\site-packages (from seaborn) (3.7.1)\n",
      "Requirement already satisfied: pandas>=0.25 in c:\\users\\shantanu\\appdata\\local\\programs\\python\\python310\\lib\\site-packages (from seaborn) (1.5.3)\n",
      "Requirement already satisfied: numpy!=1.24.0,>=1.17 in c:\\users\\shantanu\\appdata\\local\\programs\\python\\python310\\lib\\site-packages (from seaborn) (1.24.2)\n",
      "Requirement already satisfied: pillow>=6.2.0 in c:\\users\\shantanu\\appdata\\local\\programs\\python\\python310\\lib\\site-packages (from matplotlib!=3.6.1,>=3.1->seaborn) (9.4.0)\n",
      "Requirement already satisfied: packaging>=20.0 in c:\\users\\shantanu\\appdata\\local\\programs\\python\\python310\\lib\\site-packages (from matplotlib!=3.6.1,>=3.1->seaborn) (23.0)\n",
      "Requirement already satisfied: python-dateutil>=2.7 in c:\\users\\shantanu\\appdata\\local\\programs\\python\\python310\\lib\\site-packages (from matplotlib!=3.6.1,>=3.1->seaborn) (2.8.2)\n",
      "Requirement already satisfied: kiwisolver>=1.0.1 in c:\\users\\shantanu\\appdata\\local\\programs\\python\\python310\\lib\\site-packages (from matplotlib!=3.6.1,>=3.1->seaborn) (1.4.4)\n",
      "Requirement already satisfied: pyparsing>=2.3.1 in c:\\users\\shantanu\\appdata\\local\\programs\\python\\python310\\lib\\site-packages (from matplotlib!=3.6.1,>=3.1->seaborn) (3.0.9)\n",
      "Requirement already satisfied: contourpy>=1.0.1 in c:\\users\\shantanu\\appdata\\local\\programs\\python\\python310\\lib\\site-packages (from matplotlib!=3.6.1,>=3.1->seaborn) (1.0.7)\n",
      "Requirement already satisfied: cycler>=0.10 in c:\\users\\shantanu\\appdata\\local\\programs\\python\\python310\\lib\\site-packages (from matplotlib!=3.6.1,>=3.1->seaborn) (0.11.0)\n",
      "Requirement already satisfied: fonttools>=4.22.0 in c:\\users\\shantanu\\appdata\\local\\programs\\python\\python310\\lib\\site-packages (from matplotlib!=3.6.1,>=3.1->seaborn) (4.39.0)\n",
      "Requirement already satisfied: pytz>=2020.1 in c:\\users\\shantanu\\appdata\\local\\programs\\python\\python310\\lib\\site-packages (from pandas>=0.25->seaborn) (2022.7.1)\n",
      "Requirement already satisfied: six>=1.5 in c:\\users\\shantanu\\appdata\\local\\programs\\python\\python310\\lib\\site-packages (from python-dateutil>=2.7->matplotlib!=3.6.1,>=3.1->seaborn) (1.16.0)\n",
      "Requirement already satisfied: keras in c:\\users\\shantanu\\appdata\\local\\programs\\python\\python310\\lib\\site-packages (2.11.0)\n",
      "Requirement already satisfied: nltk in c:\\users\\shantanu\\appdata\\local\\programs\\python\\python310\\lib\\site-packages (3.8.1)\n",
      "Requirement already satisfied: regex>=2021.8.3 in c:\\users\\shantanu\\appdata\\local\\programs\\python\\python310\\lib\\site-packages (from nltk) (2022.10.31)\n",
      "Requirement already satisfied: tqdm in c:\\users\\shantanu\\appdata\\local\\programs\\python\\python310\\lib\\site-packages (from nltk) (4.65.0)\n",
      "Requirement already satisfied: joblib in c:\\users\\shantanu\\appdata\\local\\programs\\python\\python310\\lib\\site-packages (from nltk) (1.2.0)\n",
      "Requirement already satisfied: click in c:\\users\\shantanu\\appdata\\local\\programs\\python\\python310\\lib\\site-packages (from nltk) (8.1.3)\n",
      "Requirement already satisfied: colorama in c:\\users\\shantanu\\appdata\\local\\programs\\python\\python310\\lib\\site-packages (from click->nltk) (0.4.6)\n",
      "Requirement already satisfied: sklearn in c:\\users\\shantanu\\appdata\\local\\programs\\python\\python310\\lib\\site-packages (0.0.post1)\n",
      "Requirement already satisfied: tensorflow in c:\\users\\shantanu\\appdata\\local\\programs\\python\\python310\\lib\\site-packages (2.11.0)\n",
      "Requirement already satisfied: tensorflow-intel==2.11.0 in c:\\users\\shantanu\\appdata\\local\\programs\\python\\python310\\lib\\site-packages (from tensorflow) (2.11.0)\n",
      "Requirement already satisfied: h5py>=2.9.0 in c:\\users\\shantanu\\appdata\\local\\programs\\python\\python310\\lib\\site-packages (from tensorflow-intel==2.11.0->tensorflow) (3.8.0)\n",
      "Requirement already satisfied: packaging in c:\\users\\shantanu\\appdata\\local\\programs\\python\\python310\\lib\\site-packages (from tensorflow-intel==2.11.0->tensorflow) (23.0)\n",
      "Requirement already satisfied: tensorflow-io-gcs-filesystem>=0.23.1 in c:\\users\\shantanu\\appdata\\local\\programs\\python\\python310\\lib\\site-packages (from tensorflow-intel==2.11.0->tensorflow) (0.31.0)\n",
      "Requirement already satisfied: six>=1.12.0 in c:\\users\\shantanu\\appdata\\local\\programs\\python\\python310\\lib\\site-packages (from tensorflow-intel==2.11.0->tensorflow) (1.16.0)\n",
      "Requirement already satisfied: absl-py>=1.0.0 in c:\\users\\shantanu\\appdata\\local\\programs\\python\\python310\\lib\\site-packages (from tensorflow-intel==2.11.0->tensorflow) (1.4.0)\n",
      "Requirement already satisfied: grpcio<2.0,>=1.24.3 in c:\\users\\shantanu\\appdata\\local\\programs\\python\\python310\\lib\\site-packages (from tensorflow-intel==2.11.0->tensorflow) (1.51.3)\n",
      "Requirement already satisfied: astunparse>=1.6.0 in c:\\users\\shantanu\\appdata\\local\\programs\\python\\python310\\lib\\site-packages (from tensorflow-intel==2.11.0->tensorflow) (1.6.3)\n",
      "Requirement already satisfied: google-pasta>=0.1.1 in c:\\users\\shantanu\\appdata\\local\\programs\\python\\python310\\lib\\site-packages (from tensorflow-intel==2.11.0->tensorflow) (0.2.0)\n",
      "Requirement already satisfied: tensorflow-estimator<2.12,>=2.11.0 in c:\\users\\shantanu\\appdata\\local\\programs\\python\\python310\\lib\\site-packages (from tensorflow-intel==2.11.0->tensorflow) (2.11.0)\n",
      "Requirement already satisfied: gast<=0.4.0,>=0.2.1 in c:\\users\\shantanu\\appdata\\local\\programs\\python\\python310\\lib\\site-packages (from tensorflow-intel==2.11.0->tensorflow) (0.4.0)\n",
      "Requirement already satisfied: setuptools in c:\\users\\shantanu\\appdata\\local\\programs\\python\\python310\\lib\\site-packages (from tensorflow-intel==2.11.0->tensorflow) (65.5.0)\n",
      "Requirement already satisfied: opt-einsum>=2.3.2 in c:\\users\\shantanu\\appdata\\local\\programs\\python\\python310\\lib\\site-packages (from tensorflow-intel==2.11.0->tensorflow) (3.3.0)\n",
      "Requirement already satisfied: libclang>=13.0.0 in c:\\users\\shantanu\\appdata\\local\\programs\\python\\python310\\lib\\site-packages (from tensorflow-intel==2.11.0->tensorflow) (15.0.6.1)\n",
      "Requirement already satisfied: typing-extensions>=3.6.6 in c:\\users\\shantanu\\appdata\\local\\programs\\python\\python310\\lib\\site-packages (from tensorflow-intel==2.11.0->tensorflow) (4.5.0)\n",
      "Requirement already satisfied: keras<2.12,>=2.11.0 in c:\\users\\shantanu\\appdata\\local\\programs\\python\\python310\\lib\\site-packages (from tensorflow-intel==2.11.0->tensorflow) (2.11.0)\n",
      "Requirement already satisfied: flatbuffers>=2.0 in c:\\users\\shantanu\\appdata\\local\\programs\\python\\python310\\lib\\site-packages (from tensorflow-intel==2.11.0->tensorflow) (23.3.3)\n",
      "Requirement already satisfied: tensorboard<2.12,>=2.11 in c:\\users\\shantanu\\appdata\\local\\programs\\python\\python310\\lib\\site-packages (from tensorflow-intel==2.11.0->tensorflow) (2.11.2)\n",
      "Requirement already satisfied: protobuf<3.20,>=3.9.2 in c:\\users\\shantanu\\appdata\\local\\programs\\python\\python310\\lib\\site-packages (from tensorflow-intel==2.11.0->tensorflow) (3.19.6)\n",
      "Requirement already satisfied: numpy>=1.20 in c:\\users\\shantanu\\appdata\\local\\programs\\python\\python310\\lib\\site-packages (from tensorflow-intel==2.11.0->tensorflow) (1.24.2)\n",
      "Requirement already satisfied: termcolor>=1.1.0 in c:\\users\\shantanu\\appdata\\local\\programs\\python\\python310\\lib\\site-packages (from tensorflow-intel==2.11.0->tensorflow) (2.2.0)\n",
      "Requirement already satisfied: wrapt>=1.11.0 in c:\\users\\shantanu\\appdata\\local\\programs\\python\\python310\\lib\\site-packages (from tensorflow-intel==2.11.0->tensorflow) (1.15.0)\n",
      "Requirement already satisfied: wheel<1.0,>=0.23.0 in c:\\users\\shantanu\\appdata\\local\\programs\\python\\python310\\lib\\site-packages (from astunparse>=1.6.0->tensorflow-intel==2.11.0->tensorflow) (0.38.4)\n",
      "Requirement already satisfied: requests<3,>=2.21.0 in c:\\users\\shantanu\\appdata\\local\\programs\\python\\python310\\lib\\site-packages (from tensorboard<2.12,>=2.11->tensorflow-intel==2.11.0->tensorflow) (2.28.2)\n",
      "Requirement already satisfied: markdown>=2.6.8 in c:\\users\\shantanu\\appdata\\local\\programs\\python\\python310\\lib\\site-packages (from tensorboard<2.12,>=2.11->tensorflow-intel==2.11.0->tensorflow) (3.4.1)\n",
      "Requirement already satisfied: tensorboard-plugin-wit>=1.6.0 in c:\\users\\shantanu\\appdata\\local\\programs\\python\\python310\\lib\\site-packages (from tensorboard<2.12,>=2.11->tensorflow-intel==2.11.0->tensorflow) (1.8.1)\n",
      "Requirement already satisfied: werkzeug>=1.0.1 in c:\\users\\shantanu\\appdata\\local\\programs\\python\\python310\\lib\\site-packages (from tensorboard<2.12,>=2.11->tensorflow-intel==2.11.0->tensorflow) (2.2.3)\n",
      "Requirement already satisfied: google-auth-oauthlib<0.5,>=0.4.1 in c:\\users\\shantanu\\appdata\\local\\programs\\python\\python310\\lib\\site-packages (from tensorboard<2.12,>=2.11->tensorflow-intel==2.11.0->tensorflow) (0.4.6)\n",
      "Requirement already satisfied: google-auth<3,>=1.6.3 in c:\\users\\shantanu\\appdata\\local\\programs\\python\\python310\\lib\\site-packages (from tensorboard<2.12,>=2.11->tensorflow-intel==2.11.0->tensorflow) (2.16.2)\n",
      "Requirement already satisfied: tensorboard-data-server<0.7.0,>=0.6.0 in c:\\users\\shantanu\\appdata\\local\\programs\\python\\python310\\lib\\site-packages (from tensorboard<2.12,>=2.11->tensorflow-intel==2.11.0->tensorflow) (0.6.1)\n",
      "Requirement already satisfied: cachetools<6.0,>=2.0.0 in c:\\users\\shantanu\\appdata\\local\\programs\\python\\python310\\lib\\site-packages (from google-auth<3,>=1.6.3->tensorboard<2.12,>=2.11->tensorflow-intel==2.11.0->tensorflow) (5.3.0)\n",
      "Requirement already satisfied: pyasn1-modules>=0.2.1 in c:\\users\\shantanu\\appdata\\local\\programs\\python\\python310\\lib\\site-packages (from google-auth<3,>=1.6.3->tensorboard<2.12,>=2.11->tensorflow-intel==2.11.0->tensorflow) (0.2.8)\n",
      "Requirement already satisfied: rsa<5,>=3.1.4 in c:\\users\\shantanu\\appdata\\local\\programs\\python\\python310\\lib\\site-packages (from google-auth<3,>=1.6.3->tensorboard<2.12,>=2.11->tensorflow-intel==2.11.0->tensorflow) (4.9)\n",
      "Requirement already satisfied: requests-oauthlib>=0.7.0 in c:\\users\\shantanu\\appdata\\local\\programs\\python\\python310\\lib\\site-packages (from google-auth-oauthlib<0.5,>=0.4.1->tensorboard<2.12,>=2.11->tensorflow-intel==2.11.0->tensorflow) (1.3.1)\n",
      "Requirement already satisfied: charset-normalizer<4,>=2 in c:\\users\\shantanu\\appdata\\local\\programs\\python\\python310\\lib\\site-packages (from requests<3,>=2.21.0->tensorboard<2.12,>=2.11->tensorflow-intel==2.11.0->tensorflow) (3.1.0)\n",
      "Requirement already satisfied: certifi>=2017.4.17 in c:\\users\\shantanu\\appdata\\local\\programs\\python\\python310\\lib\\site-packages (from requests<3,>=2.21.0->tensorboard<2.12,>=2.11->tensorflow-intel==2.11.0->tensorflow) (2022.12.7)\n",
      "Requirement already satisfied: idna<4,>=2.5 in c:\\users\\shantanu\\appdata\\local\\programs\\python\\python310\\lib\\site-packages (from requests<3,>=2.21.0->tensorboard<2.12,>=2.11->tensorflow-intel==2.11.0->tensorflow) (3.4)\n",
      "Requirement already satisfied: urllib3<1.27,>=1.21.1 in c:\\users\\shantanu\\appdata\\local\\programs\\python\\python310\\lib\\site-packages (from requests<3,>=2.21.0->tensorboard<2.12,>=2.11->tensorflow-intel==2.11.0->tensorflow) (1.26.14)\n",
      "Requirement already satisfied: MarkupSafe>=2.1.1 in c:\\users\\shantanu\\appdata\\local\\programs\\python\\python310\\lib\\site-packages (from werkzeug>=1.0.1->tensorboard<2.12,>=2.11->tensorflow-intel==2.11.0->tensorflow) (2.1.2)\n",
      "Requirement already satisfied: pyasn1<0.5.0,>=0.4.6 in c:\\users\\shantanu\\appdata\\local\\programs\\python\\python310\\lib\\site-packages (from pyasn1-modules>=0.2.1->google-auth<3,>=1.6.3->tensorboard<2.12,>=2.11->tensorflow-intel==2.11.0->tensorflow) (0.4.8)\n",
      "Requirement already satisfied: oauthlib>=3.0.0 in c:\\users\\shantanu\\appdata\\local\\programs\\python\\python310\\lib\\site-packages (from requests-oauthlib>=0.7.0->google-auth-oauthlib<0.5,>=0.4.1->tensorboard<2.12,>=2.11->tensorflow-intel==2.11.0->tensorflow) (3.2.2)\n"
     ]
    }
   ],
   "source": [
    "!pip install warnings\n",
    "!pip install math\n",
    "!pip install pandas\n",
    "!pip install numpy\n",
    "!pip install matplotlib.pyplot\n",
    "!pip install seaborn\n",
    "!pip install keras\n",
    "!pip install nltk\n",
    "!pip install sklearn\n",
    "!pip install tensorflow"
   ]
  },
  {
   "cell_type": "markdown",
   "metadata": {
    "id": "wWkZ2qJqcU0W"
   },
   "source": [
    "# 1. Import Libraries"
   ]
  },
  {
   "cell_type": "code",
   "execution_count": 2,
   "metadata": {},
   "outputs": [
    {
     "name": "stdout",
     "output_type": "stream",
     "text": [
      "Requirement already satisfied: scikit-learn in c:\\users\\shantanu\\appdata\\local\\programs\\python\\python310\\lib\\site-packages (1.2.2)\n",
      "Requirement already satisfied: scipy>=1.3.2 in c:\\users\\shantanu\\appdata\\local\\programs\\python\\python310\\lib\\site-packages (from scikit-learn) (1.10.1)\n",
      "Requirement already satisfied: threadpoolctl>=2.0.0 in c:\\users\\shantanu\\appdata\\local\\programs\\python\\python310\\lib\\site-packages (from scikit-learn) (3.1.0)\n",
      "Requirement already satisfied: numpy>=1.17.3 in c:\\users\\shantanu\\appdata\\local\\programs\\python\\python310\\lib\\site-packages (from scikit-learn) (1.24.2)\n",
      "Requirement already satisfied: joblib>=1.1.1 in c:\\users\\shantanu\\appdata\\local\\programs\\python\\python310\\lib\\site-packages (from scikit-learn) (1.2.0)\n"
     ]
    }
   ],
   "source": [
    "!pip install scikit-learn"
   ]
  },
  {
   "cell_type": "code",
   "execution_count": 3,
   "metadata": {},
   "outputs": [],
   "source": [
    "import warnings\n",
    "warnings.filterwarnings('ignore')\n",
    "\n",
    "import math\n",
    "import pandas as pd\n",
    "import numpy as np\n",
    "\n",
    "import matplotlib.pyplot as plt\n",
    "import seaborn as sns\n",
    "\n",
    "from keras import models\n",
    "from keras.models import Sequential\n",
    "from keras import layers\n",
    "from keras.layers import Dense, LSTM, Dropout, Dense, Activation\n",
    "\n",
    "import nltk\n",
    "from nltk.classify import NaiveBayesClassifier\n",
    "from nltk.corpus import subjectivity\n",
    "from nltk.sentiment import SentimentAnalyzer\n",
    "from nltk.sentiment.util import *\n",
    "\n",
    "import sklearn\n",
    "from sklearn import preprocessing, metrics\n",
    "from sklearn.preprocessing import MinMaxScaler"
   ]
  },
  {
   "cell_type": "markdown",
   "metadata": {
    "id": "2FvhHKIgcg3t"
   },
   "source": [
    "# 2. Upload Datasets For Stock Data And News Headlines"
   ]
  },
  {
   "cell_type": "code",
   "execution_count": 4,
   "metadata": {
    "id": "1-YEUtNLd4IZ"
   },
   "outputs": [],
   "source": [
    "stock_price = pd.read_csv('^BSESN.csv')\n",
    "stock_headlines = pd.read_csv('india-news-headlines.csv')"
   ]
  },
  {
   "cell_type": "markdown",
   "metadata": {
    "id": "zeDnE69EdSwQ"
   },
   "source": [
    "# 3. Data Cleaning"
   ]
  },
  {
   "cell_type": "code",
   "execution_count": 5,
   "metadata": {
    "colab": {
     "base_uri": "https://localhost:8080/",
     "height": 195
    },
    "id": "n6W_Q6oleLgd",
    "outputId": "e7d10476-f551-4005-8d7f-6143f3708184"
   },
   "outputs": [
    {
     "data": {
      "text/html": [
       "<div>\n",
       "<style scoped>\n",
       "    .dataframe tbody tr th:only-of-type {\n",
       "        vertical-align: middle;\n",
       "    }\n",
       "\n",
       "    .dataframe tbody tr th {\n",
       "        vertical-align: top;\n",
       "    }\n",
       "\n",
       "    .dataframe thead th {\n",
       "        text-align: right;\n",
       "    }\n",
       "</style>\n",
       "<table border=\"1\" class=\"dataframe\">\n",
       "  <thead>\n",
       "    <tr style=\"text-align: right;\">\n",
       "      <th></th>\n",
       "      <th>Date</th>\n",
       "      <th>Open</th>\n",
       "      <th>High</th>\n",
       "      <th>Low</th>\n",
       "      <th>Close</th>\n",
       "      <th>Adj Close</th>\n",
       "      <th>Volume</th>\n",
       "    </tr>\n",
       "  </thead>\n",
       "  <tbody>\n",
       "    <tr>\n",
       "      <th>0</th>\n",
       "      <td>1/2/2001</td>\n",
       "      <td>3953.219971</td>\n",
       "      <td>4028.570068</td>\n",
       "      <td>3929.370117</td>\n",
       "      <td>4018.879883</td>\n",
       "      <td>4018.879883</td>\n",
       "      <td>0.0</td>\n",
       "    </tr>\n",
       "    <tr>\n",
       "      <th>1</th>\n",
       "      <td>1/3/2001</td>\n",
       "      <td>3977.580078</td>\n",
       "      <td>4067.659912</td>\n",
       "      <td>3977.580078</td>\n",
       "      <td>4060.020020</td>\n",
       "      <td>4060.020020</td>\n",
       "      <td>0.0</td>\n",
       "    </tr>\n",
       "    <tr>\n",
       "      <th>2</th>\n",
       "      <td>1/4/2001</td>\n",
       "      <td>4180.970215</td>\n",
       "      <td>4180.970215</td>\n",
       "      <td>4109.549805</td>\n",
       "      <td>4115.370117</td>\n",
       "      <td>4115.370117</td>\n",
       "      <td>0.0</td>\n",
       "    </tr>\n",
       "    <tr>\n",
       "      <th>3</th>\n",
       "      <td>1/5/2001</td>\n",
       "      <td>4116.339844</td>\n",
       "      <td>4195.009766</td>\n",
       "      <td>4115.350098</td>\n",
       "      <td>4183.729980</td>\n",
       "      <td>4183.729980</td>\n",
       "      <td>0.0</td>\n",
       "    </tr>\n",
       "    <tr>\n",
       "      <th>4</th>\n",
       "      <td>1/8/2001</td>\n",
       "      <td>4164.759766</td>\n",
       "      <td>4206.720215</td>\n",
       "      <td>4101.529785</td>\n",
       "      <td>4120.430176</td>\n",
       "      <td>4120.430176</td>\n",
       "      <td>0.0</td>\n",
       "    </tr>\n",
       "  </tbody>\n",
       "</table>\n",
       "</div>"
      ],
      "text/plain": [
       "       Date         Open         High          Low        Close    Adj Close  \\\n",
       "0  1/2/2001  3953.219971  4028.570068  3929.370117  4018.879883  4018.879883   \n",
       "1  1/3/2001  3977.580078  4067.659912  3977.580078  4060.020020  4060.020020   \n",
       "2  1/4/2001  4180.970215  4180.970215  4109.549805  4115.370117  4115.370117   \n",
       "3  1/5/2001  4116.339844  4195.009766  4115.350098  4183.729980  4183.729980   \n",
       "4  1/8/2001  4164.759766  4206.720215  4101.529785  4120.430176  4120.430176   \n",
       "\n",
       "   Volume  \n",
       "0     0.0  \n",
       "1     0.0  \n",
       "2     0.0  \n",
       "3     0.0  \n",
       "4     0.0  "
      ]
     },
     "execution_count": 5,
     "metadata": {},
     "output_type": "execute_result"
    }
   ],
   "source": [
    "stock_price.head()"
   ]
  },
  {
   "cell_type": "code",
   "execution_count": 6,
   "metadata": {
    "colab": {
     "base_uri": "https://localhost:8080/",
     "height": 195
    },
    "id": "594MXZiAeTlT",
    "outputId": "fccd8583-8fad-49c4-d209-f5508d63be37"
   },
   "outputs": [
    {
     "data": {
      "text/html": [
       "<div>\n",
       "<style scoped>\n",
       "    .dataframe tbody tr th:only-of-type {\n",
       "        vertical-align: middle;\n",
       "    }\n",
       "\n",
       "    .dataframe tbody tr th {\n",
       "        vertical-align: top;\n",
       "    }\n",
       "\n",
       "    .dataframe thead th {\n",
       "        text-align: right;\n",
       "    }\n",
       "</style>\n",
       "<table border=\"1\" class=\"dataframe\">\n",
       "  <thead>\n",
       "    <tr style=\"text-align: right;\">\n",
       "      <th></th>\n",
       "      <th>publish_date</th>\n",
       "      <th>headline_category</th>\n",
       "      <th>headline_text</th>\n",
       "    </tr>\n",
       "  </thead>\n",
       "  <tbody>\n",
       "    <tr>\n",
       "      <th>0</th>\n",
       "      <td>20010102</td>\n",
       "      <td>unknown</td>\n",
       "      <td>Status quo will not be disturbed at Ayodhya; s...</td>\n",
       "    </tr>\n",
       "    <tr>\n",
       "      <th>1</th>\n",
       "      <td>20010102</td>\n",
       "      <td>unknown</td>\n",
       "      <td>Fissures in Hurriyat over Pak visit</td>\n",
       "    </tr>\n",
       "    <tr>\n",
       "      <th>2</th>\n",
       "      <td>20010102</td>\n",
       "      <td>unknown</td>\n",
       "      <td>America's unwanted heading for India?</td>\n",
       "    </tr>\n",
       "    <tr>\n",
       "      <th>3</th>\n",
       "      <td>20010102</td>\n",
       "      <td>unknown</td>\n",
       "      <td>For bigwigs; it is destination Goa</td>\n",
       "    </tr>\n",
       "    <tr>\n",
       "      <th>4</th>\n",
       "      <td>20010102</td>\n",
       "      <td>unknown</td>\n",
       "      <td>Extra buses to clear tourist traffic</td>\n",
       "    </tr>\n",
       "  </tbody>\n",
       "</table>\n",
       "</div>"
      ],
      "text/plain": [
       "   publish_date headline_category  \\\n",
       "0      20010102           unknown   \n",
       "1      20010102           unknown   \n",
       "2      20010102           unknown   \n",
       "3      20010102           unknown   \n",
       "4      20010102           unknown   \n",
       "\n",
       "                                       headline_text  \n",
       "0  Status quo will not be disturbed at Ayodhya; s...  \n",
       "1                Fissures in Hurriyat over Pak visit  \n",
       "2              America's unwanted heading for India?  \n",
       "3                 For bigwigs; it is destination Goa  \n",
       "4               Extra buses to clear tourist traffic  "
      ]
     },
     "execution_count": 6,
     "metadata": {},
     "output_type": "execute_result"
    }
   ],
   "source": [
    "stock_headlines.head()"
   ]
  },
  {
   "cell_type": "code",
   "execution_count": 7,
   "metadata": {
    "colab": {
     "base_uri": "https://localhost:8080/"
    },
    "id": "R7mO-b-4fUD0",
    "outputId": "f59801e1-af2b-49c6-f516-7f740eea1679"
   },
   "outputs": [
    {
     "data": {
      "text/plain": [
       "(5043, 1048575)"
      ]
     },
     "execution_count": 7,
     "metadata": {},
     "output_type": "execute_result"
    }
   ],
   "source": [
    "# displaying number of records in both stock_price and stock_headlines datasets\n",
    "len(stock_price), len(stock_headlines)"
   ]
  },
  {
   "cell_type": "code",
   "execution_count": 8,
   "metadata": {
    "colab": {
     "base_uri": "https://localhost:8080/"
    },
    "id": "KJqG-jCxfiBh",
    "outputId": "43846558-5230-4831-e896-9e639c475a64"
   },
   "outputs": [
    {
     "data": {
      "text/plain": [
       "(Date         False\n",
       " Open          True\n",
       " High          True\n",
       " Low           True\n",
       " Close         True\n",
       " Adj Close     True\n",
       " Volume        True\n",
       " dtype: bool,\n",
       " publish_date         False\n",
       " headline_category    False\n",
       " headline_text        False\n",
       " dtype: bool)"
      ]
     },
     "execution_count": 8,
     "metadata": {},
     "output_type": "execute_result"
    }
   ],
   "source": [
    "# checking for null values in both the datasets\n",
    "stock_price.isna().any(), stock_headlines.isna().any()"
   ]
  },
  {
   "cell_type": "markdown",
   "metadata": {
    "id": "mGe-ODMGdZDP"
   },
   "source": [
    "# 3.1. Numerical Stock Data"
   ]
  },
  {
   "cell_type": "code",
   "execution_count": 9,
   "metadata": {
    "colab": {
     "base_uri": "https://localhost:8080/",
     "height": 431
    },
    "id": "49kCiU76gErp",
    "outputId": "d84efab8-1c69-4500-d65d-a526a22ab003"
   },
   "outputs": [
    {
     "data": {
      "text/html": [
       "<div>\n",
       "<style scoped>\n",
       "    .dataframe tbody tr th:only-of-type {\n",
       "        vertical-align: middle;\n",
       "    }\n",
       "\n",
       "    .dataframe tbody tr th {\n",
       "        vertical-align: top;\n",
       "    }\n",
       "\n",
       "    .dataframe thead th {\n",
       "        text-align: right;\n",
       "    }\n",
       "</style>\n",
       "<table border=\"1\" class=\"dataframe\">\n",
       "  <thead>\n",
       "    <tr style=\"text-align: right;\">\n",
       "      <th></th>\n",
       "      <th>Close</th>\n",
       "      <th>Open</th>\n",
       "      <th>High</th>\n",
       "      <th>Low</th>\n",
       "      <th>Volume</th>\n",
       "    </tr>\n",
       "    <tr>\n",
       "      <th>Date</th>\n",
       "      <th></th>\n",
       "      <th></th>\n",
       "      <th></th>\n",
       "      <th></th>\n",
       "      <th></th>\n",
       "    </tr>\n",
       "  </thead>\n",
       "  <tbody>\n",
       "    <tr>\n",
       "      <th>2001-01-02</th>\n",
       "      <td>4018.879883</td>\n",
       "      <td>3953.219971</td>\n",
       "      <td>4028.570068</td>\n",
       "      <td>3929.370117</td>\n",
       "      <td>0.0</td>\n",
       "    </tr>\n",
       "    <tr>\n",
       "      <th>2001-01-03</th>\n",
       "      <td>4060.020020</td>\n",
       "      <td>3977.580078</td>\n",
       "      <td>4067.659912</td>\n",
       "      <td>3977.580078</td>\n",
       "      <td>0.0</td>\n",
       "    </tr>\n",
       "    <tr>\n",
       "      <th>2001-01-04</th>\n",
       "      <td>4115.370117</td>\n",
       "      <td>4180.970215</td>\n",
       "      <td>4180.970215</td>\n",
       "      <td>4109.549805</td>\n",
       "      <td>0.0</td>\n",
       "    </tr>\n",
       "    <tr>\n",
       "      <th>2001-01-05</th>\n",
       "      <td>4183.729980</td>\n",
       "      <td>4116.339844</td>\n",
       "      <td>4195.009766</td>\n",
       "      <td>4115.350098</td>\n",
       "      <td>0.0</td>\n",
       "    </tr>\n",
       "    <tr>\n",
       "      <th>2001-01-08</th>\n",
       "      <td>4120.430176</td>\n",
       "      <td>4164.759766</td>\n",
       "      <td>4206.720215</td>\n",
       "      <td>4101.529785</td>\n",
       "      <td>0.0</td>\n",
       "    </tr>\n",
       "    <tr>\n",
       "      <th>...</th>\n",
       "      <td>...</td>\n",
       "      <td>...</td>\n",
       "      <td>...</td>\n",
       "      <td>...</td>\n",
       "      <td>...</td>\n",
       "    </tr>\n",
       "    <tr>\n",
       "      <th>2021-03-01</th>\n",
       "      <td>49849.839840</td>\n",
       "      <td>49747.710940</td>\n",
       "      <td>50058.421880</td>\n",
       "      <td>49440.460940</td>\n",
       "      <td>18400.0</td>\n",
       "    </tr>\n",
       "    <tr>\n",
       "      <th>2021-03-02</th>\n",
       "      <td>50296.890630</td>\n",
       "      <td>50258.089840</td>\n",
       "      <td>50439.820310</td>\n",
       "      <td>49807.121090</td>\n",
       "      <td>17500.0</td>\n",
       "    </tr>\n",
       "    <tr>\n",
       "      <th>2021-03-03</th>\n",
       "      <td>51444.648440</td>\n",
       "      <td>50738.210940</td>\n",
       "      <td>51539.890630</td>\n",
       "      <td>50512.839840</td>\n",
       "      <td>15800.0</td>\n",
       "    </tr>\n",
       "    <tr>\n",
       "      <th>2021-03-04</th>\n",
       "      <td>50846.078130</td>\n",
       "      <td>50812.140630</td>\n",
       "      <td>51256.550780</td>\n",
       "      <td>50539.921880</td>\n",
       "      <td>21800.0</td>\n",
       "    </tr>\n",
       "    <tr>\n",
       "      <th>2021-03-05</th>\n",
       "      <td>50405.320310</td>\n",
       "      <td>50517.359380</td>\n",
       "      <td>50886.191410</td>\n",
       "      <td>50160.539060</td>\n",
       "      <td>19200.0</td>\n",
       "    </tr>\n",
       "  </tbody>\n",
       "</table>\n",
       "<p>5043 rows × 5 columns</p>\n",
       "</div>"
      ],
      "text/plain": [
       "                   Close          Open          High           Low   Volume\n",
       "Date                                                                       \n",
       "2001-01-02   4018.879883   3953.219971   4028.570068   3929.370117      0.0\n",
       "2001-01-03   4060.020020   3977.580078   4067.659912   3977.580078      0.0\n",
       "2001-01-04   4115.370117   4180.970215   4180.970215   4109.549805      0.0\n",
       "2001-01-05   4183.729980   4116.339844   4195.009766   4115.350098      0.0\n",
       "2001-01-08   4120.430176   4164.759766   4206.720215   4101.529785      0.0\n",
       "...                  ...           ...           ...           ...      ...\n",
       "2021-03-01  49849.839840  49747.710940  50058.421880  49440.460940  18400.0\n",
       "2021-03-02  50296.890630  50258.089840  50439.820310  49807.121090  17500.0\n",
       "2021-03-03  51444.648440  50738.210940  51539.890630  50512.839840  15800.0\n",
       "2021-03-04  50846.078130  50812.140630  51256.550780  50539.921880  21800.0\n",
       "2021-03-05  50405.320310  50517.359380  50886.191410  50160.539060  19200.0\n",
       "\n",
       "[5043 rows x 5 columns]"
      ]
     },
     "execution_count": 9,
     "metadata": {},
     "output_type": "execute_result"
    }
   ],
   "source": [
    "# dropping duplicates\n",
    "stock_price = stock_price.drop_duplicates()\n",
    "\n",
    "# coverting the datatype of column 'Date' from type object to type 'datetime'\n",
    "stock_price['Date'] = pd.to_datetime(stock_price['Date']).dt.normalize()\n",
    "\n",
    "# filtering the important columns required\n",
    "stock_price = stock_price.filter(['Date', 'Close', 'Open', 'High', 'Low', 'Volume'])\n",
    "\n",
    "# setting column 'Date' as the index column\n",
    "stock_price.set_index('Date', inplace= True)\n",
    "\n",
    "# sorting the data according to the index i.e 'Date'\n",
    "stock_price = stock_price.sort_index(ascending=True, axis=0)\n",
    "stock_price"
   ]
  },
  {
   "cell_type": "markdown",
   "metadata": {
    "id": "NKsvMgn0dj4I"
   },
   "source": [
    "# 3.2. Textual News Headlines Data"
   ]
  },
  {
   "cell_type": "code",
   "execution_count": 10,
   "metadata": {
    "colab": {
     "base_uri": "https://localhost:8080/",
     "height": 431
    },
    "id": "B3DUYHspgNz4",
    "outputId": "6e78e86a-35e3-4c2b-9855-88287fa757c8"
   },
   "outputs": [
    {
     "data": {
      "text/html": [
       "<div>\n",
       "<style scoped>\n",
       "    .dataframe tbody tr th:only-of-type {\n",
       "        vertical-align: middle;\n",
       "    }\n",
       "\n",
       "    .dataframe tbody tr th {\n",
       "        vertical-align: top;\n",
       "    }\n",
       "\n",
       "    .dataframe thead th {\n",
       "        text-align: right;\n",
       "    }\n",
       "</style>\n",
       "<table border=\"1\" class=\"dataframe\">\n",
       "  <thead>\n",
       "    <tr style=\"text-align: right;\">\n",
       "      <th></th>\n",
       "      <th>headline_text</th>\n",
       "    </tr>\n",
       "    <tr>\n",
       "      <th>publish_date</th>\n",
       "      <th></th>\n",
       "    </tr>\n",
       "  </thead>\n",
       "  <tbody>\n",
       "    <tr>\n",
       "      <th>2001-01-02</th>\n",
       "      <td>Status quo will not be disturbed at Ayodhya; s...</td>\n",
       "    </tr>\n",
       "    <tr>\n",
       "      <th>2001-01-03</th>\n",
       "      <td>Powerless north India gropes in the dark,Think...</td>\n",
       "    </tr>\n",
       "    <tr>\n",
       "      <th>2001-01-04</th>\n",
       "      <td>The string that pulled Stephen Hawking to Indi...</td>\n",
       "    </tr>\n",
       "    <tr>\n",
       "      <th>2001-01-05</th>\n",
       "      <td>Light combat craft takes India into club class...</td>\n",
       "    </tr>\n",
       "    <tr>\n",
       "      <th>2001-01-06</th>\n",
       "      <td>Light combat craft takes India into club class...</td>\n",
       "    </tr>\n",
       "    <tr>\n",
       "      <th>...</th>\n",
       "      <td>...</td>\n",
       "    </tr>\n",
       "    <tr>\n",
       "      <th>2011-01-19</th>\n",
       "      <td>My ex doesn't want me: Pratik,Saali is not a g...</td>\n",
       "    </tr>\n",
       "    <tr>\n",
       "      <th>2011-01-20</th>\n",
       "      <td>Neetu Chandra denies going panty-less!,Aishwar...</td>\n",
       "    </tr>\n",
       "    <tr>\n",
       "      <th>2011-01-21</th>\n",
       "      <td>Giving the kids a dressing up,AK Hangal's ill ...</td>\n",
       "    </tr>\n",
       "    <tr>\n",
       "      <th>2011-01-22</th>\n",
       "      <td>DTE seeks report from tech institutes,Corporat...</td>\n",
       "    </tr>\n",
       "    <tr>\n",
       "      <th>2011-01-23</th>\n",
       "      <td>Delhi Daredevils,Mumbai Indians,Chennai Super ...</td>\n",
       "    </tr>\n",
       "  </tbody>\n",
       "</table>\n",
       "<p>3632 rows × 1 columns</p>\n",
       "</div>"
      ],
      "text/plain": [
       "                                                  headline_text\n",
       "publish_date                                                   \n",
       "2001-01-02    Status quo will not be disturbed at Ayodhya; s...\n",
       "2001-01-03    Powerless north India gropes in the dark,Think...\n",
       "2001-01-04    The string that pulled Stephen Hawking to Indi...\n",
       "2001-01-05    Light combat craft takes India into club class...\n",
       "2001-01-06    Light combat craft takes India into club class...\n",
       "...                                                         ...\n",
       "2011-01-19    My ex doesn't want me: Pratik,Saali is not a g...\n",
       "2011-01-20    Neetu Chandra denies going panty-less!,Aishwar...\n",
       "2011-01-21    Giving the kids a dressing up,AK Hangal's ill ...\n",
       "2011-01-22    DTE seeks report from tech institutes,Corporat...\n",
       "2011-01-23    Delhi Daredevils,Mumbai Indians,Chennai Super ...\n",
       "\n",
       "[3632 rows x 1 columns]"
      ]
     },
     "execution_count": 10,
     "metadata": {},
     "output_type": "execute_result"
    }
   ],
   "source": [
    "# dropping duplicates\n",
    "stock_headlines = stock_headlines.drop_duplicates()\n",
    "\n",
    "# coverting the datatype of column 'Date' from type string to type 'datetime'\n",
    "stock_headlines['publish_date'] = stock_headlines['publish_date'].astype(str)\n",
    "stock_headlines['publish_date'] = stock_headlines['publish_date'].apply(lambda x: x[0:4]+'-'+x[4:6]+'-'+x[6:8])\n",
    "stock_headlines['publish_date'] = pd.to_datetime(stock_headlines['publish_date']).dt.normalize()\n",
    "\n",
    "# filtering the important columns required\n",
    "stock_headlines = stock_headlines.filter(['publish_date', 'headline_text'])\n",
    "\n",
    "# grouping the news headlines according to 'Date'\n",
    "stock_headlines = stock_headlines.groupby(['publish_date'])['headline_text'].apply(lambda x: ','.join(x)).reset_index()\n",
    "\n",
    "# setting column 'Date' as the index column\n",
    "stock_headlines.set_index('publish_date', inplace= True)\n",
    "\n",
    "# sorting the data according to the index i.e 'Date'\n",
    "stock_headlines = stock_headlines.sort_index(ascending=True, axis=0)\n",
    "stock_headlines"
   ]
  },
  {
   "cell_type": "markdown",
   "metadata": {
    "id": "HkDuXjVFd_ih"
   },
   "source": [
    "# 4. Combine Stock Data"
   ]
  },
  {
   "cell_type": "code",
   "execution_count": 11,
   "metadata": {
    "colab": {
     "base_uri": "https://localhost:8080/",
     "height": 402
    },
    "id": "pkdhvnuTjO5c",
    "outputId": "dd30df18-a1e5-4746-d029-458fb11ba2f6"
   },
   "outputs": [
    {
     "data": {
      "text/html": [
       "<div>\n",
       "<style scoped>\n",
       "    .dataframe tbody tr th:only-of-type {\n",
       "        vertical-align: middle;\n",
       "    }\n",
       "\n",
       "    .dataframe tbody tr th {\n",
       "        vertical-align: top;\n",
       "    }\n",
       "\n",
       "    .dataframe thead th {\n",
       "        text-align: right;\n",
       "    }\n",
       "</style>\n",
       "<table border=\"1\" class=\"dataframe\">\n",
       "  <thead>\n",
       "    <tr style=\"text-align: right;\">\n",
       "      <th></th>\n",
       "      <th>Close</th>\n",
       "      <th>Open</th>\n",
       "      <th>High</th>\n",
       "      <th>Low</th>\n",
       "      <th>Volume</th>\n",
       "      <th>headline_text</th>\n",
       "    </tr>\n",
       "  </thead>\n",
       "  <tbody>\n",
       "    <tr>\n",
       "      <th>2001-01-02</th>\n",
       "      <td>4018.879883</td>\n",
       "      <td>3953.219971</td>\n",
       "      <td>4028.570068</td>\n",
       "      <td>3929.370117</td>\n",
       "      <td>0.0</td>\n",
       "      <td>Status quo will not be disturbed at Ayodhya; s...</td>\n",
       "    </tr>\n",
       "    <tr>\n",
       "      <th>2001-01-03</th>\n",
       "      <td>4060.020020</td>\n",
       "      <td>3977.580078</td>\n",
       "      <td>4067.659912</td>\n",
       "      <td>3977.580078</td>\n",
       "      <td>0.0</td>\n",
       "      <td>Powerless north India gropes in the dark,Think...</td>\n",
       "    </tr>\n",
       "    <tr>\n",
       "      <th>2001-01-04</th>\n",
       "      <td>4115.370117</td>\n",
       "      <td>4180.970215</td>\n",
       "      <td>4180.970215</td>\n",
       "      <td>4109.549805</td>\n",
       "      <td>0.0</td>\n",
       "      <td>The string that pulled Stephen Hawking to Indi...</td>\n",
       "    </tr>\n",
       "    <tr>\n",
       "      <th>2001-01-05</th>\n",
       "      <td>4183.729980</td>\n",
       "      <td>4116.339844</td>\n",
       "      <td>4195.009766</td>\n",
       "      <td>4115.350098</td>\n",
       "      <td>0.0</td>\n",
       "      <td>Light combat craft takes India into club class...</td>\n",
       "    </tr>\n",
       "    <tr>\n",
       "      <th>2001-01-08</th>\n",
       "      <td>4120.430176</td>\n",
       "      <td>4164.759766</td>\n",
       "      <td>4206.720215</td>\n",
       "      <td>4101.529785</td>\n",
       "      <td>0.0</td>\n",
       "      <td>Sangh Parivar; Babri panel up the ante,Frontru...</td>\n",
       "    </tr>\n",
       "    <tr>\n",
       "      <th>...</th>\n",
       "      <td>...</td>\n",
       "      <td>...</td>\n",
       "      <td>...</td>\n",
       "      <td>...</td>\n",
       "      <td>...</td>\n",
       "      <td>...</td>\n",
       "    </tr>\n",
       "    <tr>\n",
       "      <th>2011-01-17</th>\n",
       "      <td>18882.250000</td>\n",
       "      <td>18911.429690</td>\n",
       "      <td>19018.939450</td>\n",
       "      <td>18779.380860</td>\n",
       "      <td>17800.0</td>\n",
       "      <td>Older brother in the dark about sibling's deat...</td>\n",
       "    </tr>\n",
       "    <tr>\n",
       "      <th>2011-01-18</th>\n",
       "      <td>19092.050780</td>\n",
       "      <td>18983.199220</td>\n",
       "      <td>19120.619140</td>\n",
       "      <td>18933.470700</td>\n",
       "      <td>14400.0</td>\n",
       "      <td>Top sex mistakes men make,No alcohol for 6-pac...</td>\n",
       "    </tr>\n",
       "    <tr>\n",
       "      <th>2011-01-19</th>\n",
       "      <td>18978.320310</td>\n",
       "      <td>19153.310550</td>\n",
       "      <td>19167.060550</td>\n",
       "      <td>18898.560550</td>\n",
       "      <td>16200.0</td>\n",
       "      <td>My ex doesn't want me: Pratik,Saali is not a g...</td>\n",
       "    </tr>\n",
       "    <tr>\n",
       "      <th>2011-01-20</th>\n",
       "      <td>19046.539060</td>\n",
       "      <td>18892.429690</td>\n",
       "      <td>19100.259770</td>\n",
       "      <td>18794.730470</td>\n",
       "      <td>12800.0</td>\n",
       "      <td>Neetu Chandra denies going panty-less!,Aishwar...</td>\n",
       "    </tr>\n",
       "    <tr>\n",
       "      <th>2011-01-21</th>\n",
       "      <td>19007.529300</td>\n",
       "      <td>19007.080080</td>\n",
       "      <td>19065.339840</td>\n",
       "      <td>18932.400390</td>\n",
       "      <td>11000.0</td>\n",
       "      <td>Giving the kids a dressing up,AK Hangal's ill ...</td>\n",
       "    </tr>\n",
       "  </tbody>\n",
       "</table>\n",
       "<p>2457 rows × 6 columns</p>\n",
       "</div>"
      ],
      "text/plain": [
       "                   Close          Open          High           Low   Volume  \\\n",
       "2001-01-02   4018.879883   3953.219971   4028.570068   3929.370117      0.0   \n",
       "2001-01-03   4060.020020   3977.580078   4067.659912   3977.580078      0.0   \n",
       "2001-01-04   4115.370117   4180.970215   4180.970215   4109.549805      0.0   \n",
       "2001-01-05   4183.729980   4116.339844   4195.009766   4115.350098      0.0   \n",
       "2001-01-08   4120.430176   4164.759766   4206.720215   4101.529785      0.0   \n",
       "...                  ...           ...           ...           ...      ...   \n",
       "2011-01-17  18882.250000  18911.429690  19018.939450  18779.380860  17800.0   \n",
       "2011-01-18  19092.050780  18983.199220  19120.619140  18933.470700  14400.0   \n",
       "2011-01-19  18978.320310  19153.310550  19167.060550  18898.560550  16200.0   \n",
       "2011-01-20  19046.539060  18892.429690  19100.259770  18794.730470  12800.0   \n",
       "2011-01-21  19007.529300  19007.080080  19065.339840  18932.400390  11000.0   \n",
       "\n",
       "                                                headline_text  \n",
       "2001-01-02  Status quo will not be disturbed at Ayodhya; s...  \n",
       "2001-01-03  Powerless north India gropes in the dark,Think...  \n",
       "2001-01-04  The string that pulled Stephen Hawking to Indi...  \n",
       "2001-01-05  Light combat craft takes India into club class...  \n",
       "2001-01-08  Sangh Parivar; Babri panel up the ante,Frontru...  \n",
       "...                                                       ...  \n",
       "2011-01-17  Older brother in the dark about sibling's deat...  \n",
       "2011-01-18  Top sex mistakes men make,No alcohol for 6-pac...  \n",
       "2011-01-19  My ex doesn't want me: Pratik,Saali is not a g...  \n",
       "2011-01-20  Neetu Chandra denies going panty-less!,Aishwar...  \n",
       "2011-01-21  Giving the kids a dressing up,AK Hangal's ill ...  \n",
       "\n",
       "[2457 rows x 6 columns]"
      ]
     },
     "execution_count": 11,
     "metadata": {},
     "output_type": "execute_result"
    }
   ],
   "source": [
    "# concatenating the datasets stock_price and stock_headlines\n",
    "stock_data = pd.concat([stock_price, stock_headlines], axis=1)\n",
    "\n",
    "# dropping the null values if any\n",
    "stock_data.dropna(axis=0, inplace=True)\n",
    "\n",
    "# displaying the combined stock_data\n",
    "stock_data\n"
   ]
  },
  {
   "cell_type": "code",
   "execution_count": 12,
   "metadata": {
    "colab": {
     "base_uri": "https://localhost:8080/",
     "height": 402
    },
    "id": "l26uhclwjUao",
    "outputId": "2723a9af-58b6-462a-b9f7-46edce9984bf"
   },
   "outputs": [
    {
     "data": {
      "text/html": [
       "<div>\n",
       "<style scoped>\n",
       "    .dataframe tbody tr th:only-of-type {\n",
       "        vertical-align: middle;\n",
       "    }\n",
       "\n",
       "    .dataframe tbody tr th {\n",
       "        vertical-align: top;\n",
       "    }\n",
       "\n",
       "    .dataframe thead th {\n",
       "        text-align: right;\n",
       "    }\n",
       "</style>\n",
       "<table border=\"1\" class=\"dataframe\">\n",
       "  <thead>\n",
       "    <tr style=\"text-align: right;\">\n",
       "      <th></th>\n",
       "      <th>Close</th>\n",
       "      <th>Open</th>\n",
       "      <th>High</th>\n",
       "      <th>Low</th>\n",
       "      <th>Volume</th>\n",
       "      <th>headline_text</th>\n",
       "    </tr>\n",
       "  </thead>\n",
       "  <tbody>\n",
       "    <tr>\n",
       "      <th>2001-01-02</th>\n",
       "      <td>4018.879883</td>\n",
       "      <td>3953.219971</td>\n",
       "      <td>4028.570068</td>\n",
       "      <td>3929.370117</td>\n",
       "      <td>0.0</td>\n",
       "      <td>Status quo will not be disturbed at Ayodhya; s...</td>\n",
       "    </tr>\n",
       "    <tr>\n",
       "      <th>2001-01-03</th>\n",
       "      <td>4060.020020</td>\n",
       "      <td>3977.580078</td>\n",
       "      <td>4067.659912</td>\n",
       "      <td>3977.580078</td>\n",
       "      <td>0.0</td>\n",
       "      <td>Powerless north India gropes in the dark,Think...</td>\n",
       "    </tr>\n",
       "    <tr>\n",
       "      <th>2001-01-04</th>\n",
       "      <td>4115.370117</td>\n",
       "      <td>4180.970215</td>\n",
       "      <td>4180.970215</td>\n",
       "      <td>4109.549805</td>\n",
       "      <td>0.0</td>\n",
       "      <td>The string that pulled Stephen Hawking to Indi...</td>\n",
       "    </tr>\n",
       "    <tr>\n",
       "      <th>2001-01-05</th>\n",
       "      <td>4183.729980</td>\n",
       "      <td>4116.339844</td>\n",
       "      <td>4195.009766</td>\n",
       "      <td>4115.350098</td>\n",
       "      <td>0.0</td>\n",
       "      <td>Light combat craft takes India into club class...</td>\n",
       "    </tr>\n",
       "    <tr>\n",
       "      <th>2001-01-08</th>\n",
       "      <td>4120.430176</td>\n",
       "      <td>4164.759766</td>\n",
       "      <td>4206.720215</td>\n",
       "      <td>4101.529785</td>\n",
       "      <td>0.0</td>\n",
       "      <td>Sangh Parivar; Babri panel up the ante,Frontru...</td>\n",
       "    </tr>\n",
       "    <tr>\n",
       "      <th>...</th>\n",
       "      <td>...</td>\n",
       "      <td>...</td>\n",
       "      <td>...</td>\n",
       "      <td>...</td>\n",
       "      <td>...</td>\n",
       "      <td>...</td>\n",
       "    </tr>\n",
       "    <tr>\n",
       "      <th>2011-01-17</th>\n",
       "      <td>18882.250000</td>\n",
       "      <td>18911.429690</td>\n",
       "      <td>19018.939450</td>\n",
       "      <td>18779.380860</td>\n",
       "      <td>17800.0</td>\n",
       "      <td>Older brother in the dark about sibling's deat...</td>\n",
       "    </tr>\n",
       "    <tr>\n",
       "      <th>2011-01-18</th>\n",
       "      <td>19092.050780</td>\n",
       "      <td>18983.199220</td>\n",
       "      <td>19120.619140</td>\n",
       "      <td>18933.470700</td>\n",
       "      <td>14400.0</td>\n",
       "      <td>Top sex mistakes men make,No alcohol for 6-pac...</td>\n",
       "    </tr>\n",
       "    <tr>\n",
       "      <th>2011-01-19</th>\n",
       "      <td>18978.320310</td>\n",
       "      <td>19153.310550</td>\n",
       "      <td>19167.060550</td>\n",
       "      <td>18898.560550</td>\n",
       "      <td>16200.0</td>\n",
       "      <td>My ex doesn't want me: Pratik,Saali is not a g...</td>\n",
       "    </tr>\n",
       "    <tr>\n",
       "      <th>2011-01-20</th>\n",
       "      <td>19046.539060</td>\n",
       "      <td>18892.429690</td>\n",
       "      <td>19100.259770</td>\n",
       "      <td>18794.730470</td>\n",
       "      <td>12800.0</td>\n",
       "      <td>Neetu Chandra denies going panty-less!,Aishwar...</td>\n",
       "    </tr>\n",
       "    <tr>\n",
       "      <th>2011-01-21</th>\n",
       "      <td>19007.529300</td>\n",
       "      <td>19007.080080</td>\n",
       "      <td>19065.339840</td>\n",
       "      <td>18932.400390</td>\n",
       "      <td>11000.0</td>\n",
       "      <td>Giving the kids a dressing up,AK Hangal's ill ...</td>\n",
       "    </tr>\n",
       "  </tbody>\n",
       "</table>\n",
       "<p>2514 rows × 6 columns</p>\n",
       "</div>"
      ],
      "text/plain": [
       "                   Close          Open          High           Low   Volume  \\\n",
       "2001-01-02   4018.879883   3953.219971   4028.570068   3929.370117      0.0   \n",
       "2001-01-03   4060.020020   3977.580078   4067.659912   3977.580078      0.0   \n",
       "2001-01-04   4115.370117   4180.970215   4180.970215   4109.549805      0.0   \n",
       "2001-01-05   4183.729980   4116.339844   4195.009766   4115.350098      0.0   \n",
       "2001-01-08   4120.430176   4164.759766   4206.720215   4101.529785      0.0   \n",
       "...                  ...           ...           ...           ...      ...   \n",
       "2011-01-17  18882.250000  18911.429690  19018.939450  18779.380860  17800.0   \n",
       "2011-01-18  19092.050780  18983.199220  19120.619140  18933.470700  14400.0   \n",
       "2011-01-19  18978.320310  19153.310550  19167.060550  18898.560550  16200.0   \n",
       "2011-01-20  19046.539060  18892.429690  19100.259770  18794.730470  12800.0   \n",
       "2011-01-21  19007.529300  19007.080080  19065.339840  18932.400390  11000.0   \n",
       "\n",
       "                                                headline_text  \n",
       "2001-01-02  Status quo will not be disturbed at Ayodhya; s...  \n",
       "2001-01-03  Powerless north India gropes in the dark,Think...  \n",
       "2001-01-04  The string that pulled Stephen Hawking to Indi...  \n",
       "2001-01-05  Light combat craft takes India into club class...  \n",
       "2001-01-08  Sangh Parivar; Babri panel up the ante,Frontru...  \n",
       "...                                                       ...  \n",
       "2011-01-17  Older brother in the dark about sibling's deat...  \n",
       "2011-01-18  Top sex mistakes men make,No alcohol for 6-pac...  \n",
       "2011-01-19  My ex doesn't want me: Pratik,Saali is not a g...  \n",
       "2011-01-20  Neetu Chandra denies going panty-less!,Aishwar...  \n",
       "2011-01-21  Giving the kids a dressing up,AK Hangal's ill ...  \n",
       "\n",
       "[2514 rows x 6 columns]"
      ]
     },
     "execution_count": 12,
     "metadata": {},
     "output_type": "execute_result"
    }
   ],
   "source": [
    "#alternate way is to use merge funtion and inner join operation \n",
    "pd.merge(stock_price, stock_headlines, left_index=True, right_index=True, how='inner')"
   ]
  },
  {
   "cell_type": "markdown",
   "metadata": {
    "id": "NQHundSKeOvF"
   },
   "source": [
    "# 5. Sentiment Analysis"
   ]
  },
  {
   "cell_type": "code",
   "execution_count": 13,
   "metadata": {
    "colab": {
     "base_uri": "https://localhost:8080/",
     "height": 195
    },
    "id": "gS6QOA_alVG6",
    "outputId": "c041b92f-1a5b-466d-ecd8-8aeea2894643"
   },
   "outputs": [
    {
     "data": {
      "text/html": [
       "<div>\n",
       "<style scoped>\n",
       "    .dataframe tbody tr th:only-of-type {\n",
       "        vertical-align: middle;\n",
       "    }\n",
       "\n",
       "    .dataframe tbody tr th {\n",
       "        vertical-align: top;\n",
       "    }\n",
       "\n",
       "    .dataframe thead th {\n",
       "        text-align: right;\n",
       "    }\n",
       "</style>\n",
       "<table border=\"1\" class=\"dataframe\">\n",
       "  <thead>\n",
       "    <tr style=\"text-align: right;\">\n",
       "      <th></th>\n",
       "      <th>Close</th>\n",
       "      <th>Open</th>\n",
       "      <th>High</th>\n",
       "      <th>Low</th>\n",
       "      <th>Volume</th>\n",
       "      <th>headline_text</th>\n",
       "      <th>compound</th>\n",
       "      <th>negative</th>\n",
       "      <th>neutral</th>\n",
       "      <th>positive</th>\n",
       "    </tr>\n",
       "  </thead>\n",
       "  <tbody>\n",
       "    <tr>\n",
       "      <th>2001-01-02</th>\n",
       "      <td>4018.879883</td>\n",
       "      <td>3953.219971</td>\n",
       "      <td>4028.570068</td>\n",
       "      <td>3929.370117</td>\n",
       "      <td>0.0</td>\n",
       "      <td>Status quo will not be disturbed at Ayodhya; s...</td>\n",
       "      <td></td>\n",
       "      <td></td>\n",
       "      <td></td>\n",
       "      <td></td>\n",
       "    </tr>\n",
       "    <tr>\n",
       "      <th>2001-01-03</th>\n",
       "      <td>4060.020020</td>\n",
       "      <td>3977.580078</td>\n",
       "      <td>4067.659912</td>\n",
       "      <td>3977.580078</td>\n",
       "      <td>0.0</td>\n",
       "      <td>Powerless north India gropes in the dark,Think...</td>\n",
       "      <td></td>\n",
       "      <td></td>\n",
       "      <td></td>\n",
       "      <td></td>\n",
       "    </tr>\n",
       "    <tr>\n",
       "      <th>2001-01-04</th>\n",
       "      <td>4115.370117</td>\n",
       "      <td>4180.970215</td>\n",
       "      <td>4180.970215</td>\n",
       "      <td>4109.549805</td>\n",
       "      <td>0.0</td>\n",
       "      <td>The string that pulled Stephen Hawking to Indi...</td>\n",
       "      <td></td>\n",
       "      <td></td>\n",
       "      <td></td>\n",
       "      <td></td>\n",
       "    </tr>\n",
       "    <tr>\n",
       "      <th>2001-01-05</th>\n",
       "      <td>4183.729980</td>\n",
       "      <td>4116.339844</td>\n",
       "      <td>4195.009766</td>\n",
       "      <td>4115.350098</td>\n",
       "      <td>0.0</td>\n",
       "      <td>Light combat craft takes India into club class...</td>\n",
       "      <td></td>\n",
       "      <td></td>\n",
       "      <td></td>\n",
       "      <td></td>\n",
       "    </tr>\n",
       "    <tr>\n",
       "      <th>2001-01-08</th>\n",
       "      <td>4120.430176</td>\n",
       "      <td>4164.759766</td>\n",
       "      <td>4206.720215</td>\n",
       "      <td>4101.529785</td>\n",
       "      <td>0.0</td>\n",
       "      <td>Sangh Parivar; Babri panel up the ante,Frontru...</td>\n",
       "      <td></td>\n",
       "      <td></td>\n",
       "      <td></td>\n",
       "      <td></td>\n",
       "    </tr>\n",
       "  </tbody>\n",
       "</table>\n",
       "</div>"
      ],
      "text/plain": [
       "                  Close         Open         High          Low  Volume  \\\n",
       "2001-01-02  4018.879883  3953.219971  4028.570068  3929.370117     0.0   \n",
       "2001-01-03  4060.020020  3977.580078  4067.659912  3977.580078     0.0   \n",
       "2001-01-04  4115.370117  4180.970215  4180.970215  4109.549805     0.0   \n",
       "2001-01-05  4183.729980  4116.339844  4195.009766  4115.350098     0.0   \n",
       "2001-01-08  4120.430176  4164.759766  4206.720215  4101.529785     0.0   \n",
       "\n",
       "                                                headline_text compound  \\\n",
       "2001-01-02  Status quo will not be disturbed at Ayodhya; s...            \n",
       "2001-01-03  Powerless north India gropes in the dark,Think...            \n",
       "2001-01-04  The string that pulled Stephen Hawking to Indi...            \n",
       "2001-01-05  Light combat craft takes India into club class...            \n",
       "2001-01-08  Sangh Parivar; Babri panel up the ante,Frontru...            \n",
       "\n",
       "           negative neutral positive  \n",
       "2001-01-02                            \n",
       "2001-01-03                            \n",
       "2001-01-04                            \n",
       "2001-01-05                            \n",
       "2001-01-08                            "
      ]
     },
     "execution_count": 13,
     "metadata": {},
     "output_type": "execute_result"
    }
   ],
   "source": [
    "# adding empty sentiment columns to stock_data for later calculation\n",
    "stock_data['compound'] = ''\n",
    "stock_data['negative'] = ''\n",
    "stock_data['neutral'] = ''\n",
    "stock_data['positive'] = ''\n",
    "stock_data.head()"
   ]
  },
  {
   "cell_type": "code",
   "execution_count": 14,
   "metadata": {
    "colab": {
     "base_uri": "https://localhost:8080/"
    },
    "id": "OLCrUazHm-7H",
    "outputId": "d413aaf8-31ed-4826-c75f-0a1abe575d86"
   },
   "outputs": [
    {
     "name": "stderr",
     "output_type": "stream",
     "text": [
      "[nltk_data] Downloading package vader_lexicon to\n",
      "[nltk_data]     C:\\Users\\Shantanu\\AppData\\Roaming\\nltk_data...\n",
      "[nltk_data]   Package vader_lexicon is already up-to-date!\n"
     ]
    },
    {
     "data": {
      "text/plain": [
       "True"
      ]
     },
     "execution_count": 14,
     "metadata": {},
     "output_type": "execute_result"
    }
   ],
   "source": [
    " import nltk\n",
    " nltk.download('vader_lexicon')"
   ]
  },
  {
   "cell_type": "code",
   "execution_count": 15,
   "metadata": {
    "colab": {
     "base_uri": "https://localhost:8080/",
     "height": 279
    },
    "id": "UqP0QsP9mjU8",
    "outputId": "69c00f0f-d022-4d1d-8fc4-190d5adf922b"
   },
   "outputs": [
    {
     "data": {
      "text/html": [
       "<div>\n",
       "<style scoped>\n",
       "    .dataframe tbody tr th:only-of-type {\n",
       "        vertical-align: middle;\n",
       "    }\n",
       "\n",
       "    .dataframe tbody tr th {\n",
       "        vertical-align: top;\n",
       "    }\n",
       "\n",
       "    .dataframe thead th {\n",
       "        text-align: right;\n",
       "    }\n",
       "</style>\n",
       "<table border=\"1\" class=\"dataframe\">\n",
       "  <thead>\n",
       "    <tr style=\"text-align: right;\">\n",
       "      <th></th>\n",
       "      <th>Close</th>\n",
       "      <th>Open</th>\n",
       "      <th>High</th>\n",
       "      <th>Low</th>\n",
       "      <th>Volume</th>\n",
       "      <th>headline_text</th>\n",
       "      <th>compound</th>\n",
       "      <th>negative</th>\n",
       "      <th>neutral</th>\n",
       "      <th>positive</th>\n",
       "    </tr>\n",
       "  </thead>\n",
       "  <tbody>\n",
       "    <tr>\n",
       "      <th>2001-01-02</th>\n",
       "      <td>4018.879883</td>\n",
       "      <td>3953.219971</td>\n",
       "      <td>4028.570068</td>\n",
       "      <td>3929.370117</td>\n",
       "      <td>0.0</td>\n",
       "      <td>Status quo will not be disturbed at Ayodhya; s...</td>\n",
       "      <td>-0.9621</td>\n",
       "      <td>0.119</td>\n",
       "      <td>0.817</td>\n",
       "      <td>0.064</td>\n",
       "    </tr>\n",
       "    <tr>\n",
       "      <th>2001-01-03</th>\n",
       "      <td>4060.020020</td>\n",
       "      <td>3977.580078</td>\n",
       "      <td>4067.659912</td>\n",
       "      <td>3977.580078</td>\n",
       "      <td>0.0</td>\n",
       "      <td>Powerless north India gropes in the dark,Think...</td>\n",
       "      <td>0.6322</td>\n",
       "      <td>0.084</td>\n",
       "      <td>0.817</td>\n",
       "      <td>0.098</td>\n",
       "    </tr>\n",
       "    <tr>\n",
       "      <th>2001-01-04</th>\n",
       "      <td>4115.370117</td>\n",
       "      <td>4180.970215</td>\n",
       "      <td>4180.970215</td>\n",
       "      <td>4109.549805</td>\n",
       "      <td>0.0</td>\n",
       "      <td>The string that pulled Stephen Hawking to Indi...</td>\n",
       "      <td>0.6648</td>\n",
       "      <td>0.077</td>\n",
       "      <td>0.843</td>\n",
       "      <td>0.080</td>\n",
       "    </tr>\n",
       "    <tr>\n",
       "      <th>2001-01-05</th>\n",
       "      <td>4183.729980</td>\n",
       "      <td>4116.339844</td>\n",
       "      <td>4195.009766</td>\n",
       "      <td>4115.350098</td>\n",
       "      <td>0.0</td>\n",
       "      <td>Light combat craft takes India into club class...</td>\n",
       "      <td>0.9253</td>\n",
       "      <td>0.104</td>\n",
       "      <td>0.744</td>\n",
       "      <td>0.152</td>\n",
       "    </tr>\n",
       "    <tr>\n",
       "      <th>2001-01-08</th>\n",
       "      <td>4120.430176</td>\n",
       "      <td>4164.759766</td>\n",
       "      <td>4206.720215</td>\n",
       "      <td>4101.529785</td>\n",
       "      <td>0.0</td>\n",
       "      <td>Sangh Parivar; Babri panel up the ante,Frontru...</td>\n",
       "      <td>-0.9638</td>\n",
       "      <td>0.119</td>\n",
       "      <td>0.855</td>\n",
       "      <td>0.026</td>\n",
       "    </tr>\n",
       "  </tbody>\n",
       "</table>\n",
       "</div>"
      ],
      "text/plain": [
       "                  Close         Open         High          Low  Volume  \\\n",
       "2001-01-02  4018.879883  3953.219971  4028.570068  3929.370117     0.0   \n",
       "2001-01-03  4060.020020  3977.580078  4067.659912  3977.580078     0.0   \n",
       "2001-01-04  4115.370117  4180.970215  4180.970215  4109.549805     0.0   \n",
       "2001-01-05  4183.729980  4116.339844  4195.009766  4115.350098     0.0   \n",
       "2001-01-08  4120.430176  4164.759766  4206.720215  4101.529785     0.0   \n",
       "\n",
       "                                                headline_text  compound  \\\n",
       "2001-01-02  Status quo will not be disturbed at Ayodhya; s...   -0.9621   \n",
       "2001-01-03  Powerless north India gropes in the dark,Think...    0.6322   \n",
       "2001-01-04  The string that pulled Stephen Hawking to Indi...    0.6648   \n",
       "2001-01-05  Light combat craft takes India into club class...    0.9253   \n",
       "2001-01-08  Sangh Parivar; Babri panel up the ante,Frontru...   -0.9638   \n",
       "\n",
       "            negative  neutral  positive  \n",
       "2001-01-02     0.119    0.817     0.064  \n",
       "2001-01-03     0.084    0.817     0.098  \n",
       "2001-01-04     0.077    0.843     0.080  \n",
       "2001-01-05     0.104    0.744     0.152  \n",
       "2001-01-08     0.119    0.855     0.026  "
      ]
     },
     "execution_count": 15,
     "metadata": {},
     "output_type": "execute_result"
    }
   ],
   "source": [
    "from nltk.sentiment.vader import SentimentIntensityAnalyzer\n",
    "import unicodedata\n",
    "\n",
    "# instantiating the Sentiment Analyzer\n",
    "sid = SentimentIntensityAnalyzer()\n",
    "\n",
    "# calculating sentiment scores\n",
    "stock_data['compound'] = stock_data['headline_text'].apply(lambda x: sid.polarity_scores(x)['compound'])\n",
    "stock_data['negative'] = stock_data['headline_text'].apply(lambda x: sid.polarity_scores(x)['neg'])\n",
    "stock_data['neutral'] = stock_data['headline_text'].apply(lambda x: sid.polarity_scores(x)['neu'])\n",
    "stock_data['positive'] = stock_data['headline_text'].apply(lambda x: sid.polarity_scores(x)['pos'])\n",
    "\n",
    "# displaying the stock data\n",
    "stock_data.head()"
   ]
  },
  {
   "cell_type": "code",
   "execution_count": 16,
   "metadata": {
    "colab": {
     "base_uri": "https://localhost:8080/",
     "height": 225
    },
    "id": "9GcMEMyt0PHK",
    "outputId": "1d2b7ceb-68d9-4502-f838-db6152beef92"
   },
   "outputs": [
    {
     "data": {
      "text/html": [
       "<div>\n",
       "<style scoped>\n",
       "    .dataframe tbody tr th:only-of-type {\n",
       "        vertical-align: middle;\n",
       "    }\n",
       "\n",
       "    .dataframe tbody tr th {\n",
       "        vertical-align: top;\n",
       "    }\n",
       "\n",
       "    .dataframe thead th {\n",
       "        text-align: right;\n",
       "    }\n",
       "</style>\n",
       "<table border=\"1\" class=\"dataframe\">\n",
       "  <thead>\n",
       "    <tr style=\"text-align: right;\">\n",
       "      <th></th>\n",
       "      <th>Close</th>\n",
       "      <th>compound</th>\n",
       "      <th>negative</th>\n",
       "      <th>neutral</th>\n",
       "      <th>positive</th>\n",
       "      <th>Open</th>\n",
       "      <th>High</th>\n",
       "      <th>Low</th>\n",
       "      <th>Volume</th>\n",
       "    </tr>\n",
       "    <tr>\n",
       "      <th>Date</th>\n",
       "      <th></th>\n",
       "      <th></th>\n",
       "      <th></th>\n",
       "      <th></th>\n",
       "      <th></th>\n",
       "      <th></th>\n",
       "      <th></th>\n",
       "      <th></th>\n",
       "      <th></th>\n",
       "    </tr>\n",
       "  </thead>\n",
       "  <tbody>\n",
       "    <tr>\n",
       "      <th>2001-01-02</th>\n",
       "      <td>4018.879883</td>\n",
       "      <td>-0.9621</td>\n",
       "      <td>0.119</td>\n",
       "      <td>0.817</td>\n",
       "      <td>0.064</td>\n",
       "      <td>3953.219971</td>\n",
       "      <td>4028.570068</td>\n",
       "      <td>3929.370117</td>\n",
       "      <td>0.0</td>\n",
       "    </tr>\n",
       "    <tr>\n",
       "      <th>2001-01-03</th>\n",
       "      <td>4060.020020</td>\n",
       "      <td>0.6322</td>\n",
       "      <td>0.084</td>\n",
       "      <td>0.817</td>\n",
       "      <td>0.098</td>\n",
       "      <td>3977.580078</td>\n",
       "      <td>4067.659912</td>\n",
       "      <td>3977.580078</td>\n",
       "      <td>0.0</td>\n",
       "    </tr>\n",
       "    <tr>\n",
       "      <th>2001-01-04</th>\n",
       "      <td>4115.370117</td>\n",
       "      <td>0.6648</td>\n",
       "      <td>0.077</td>\n",
       "      <td>0.843</td>\n",
       "      <td>0.080</td>\n",
       "      <td>4180.970215</td>\n",
       "      <td>4180.970215</td>\n",
       "      <td>4109.549805</td>\n",
       "      <td>0.0</td>\n",
       "    </tr>\n",
       "    <tr>\n",
       "      <th>2001-01-05</th>\n",
       "      <td>4183.729980</td>\n",
       "      <td>0.9253</td>\n",
       "      <td>0.104</td>\n",
       "      <td>0.744</td>\n",
       "      <td>0.152</td>\n",
       "      <td>4116.339844</td>\n",
       "      <td>4195.009766</td>\n",
       "      <td>4115.350098</td>\n",
       "      <td>0.0</td>\n",
       "    </tr>\n",
       "    <tr>\n",
       "      <th>2001-01-08</th>\n",
       "      <td>4120.430176</td>\n",
       "      <td>-0.9638</td>\n",
       "      <td>0.119</td>\n",
       "      <td>0.855</td>\n",
       "      <td>0.026</td>\n",
       "      <td>4164.759766</td>\n",
       "      <td>4206.720215</td>\n",
       "      <td>4101.529785</td>\n",
       "      <td>0.0</td>\n",
       "    </tr>\n",
       "  </tbody>\n",
       "</table>\n",
       "</div>"
      ],
      "text/plain": [
       "                  Close  compound  negative  neutral  positive         Open  \\\n",
       "Date                                                                          \n",
       "2001-01-02  4018.879883   -0.9621     0.119    0.817     0.064  3953.219971   \n",
       "2001-01-03  4060.020020    0.6322     0.084    0.817     0.098  3977.580078   \n",
       "2001-01-04  4115.370117    0.6648     0.077    0.843     0.080  4180.970215   \n",
       "2001-01-05  4183.729980    0.9253     0.104    0.744     0.152  4116.339844   \n",
       "2001-01-08  4120.430176   -0.9638     0.119    0.855     0.026  4164.759766   \n",
       "\n",
       "                   High          Low  Volume  \n",
       "Date                                          \n",
       "2001-01-02  4028.570068  3929.370117     0.0  \n",
       "2001-01-03  4067.659912  3977.580078     0.0  \n",
       "2001-01-04  4180.970215  4109.549805     0.0  \n",
       "2001-01-05  4195.009766  4115.350098     0.0  \n",
       "2001-01-08  4206.720215  4101.529785     0.0  "
      ]
     },
     "execution_count": 16,
     "metadata": {},
     "output_type": "execute_result"
    }
   ],
   "source": [
    "# dropping the 'headline_text' which is unwanted now\n",
    "stock_data.drop(['headline_text'], inplace=True, axis=1)\n",
    "\n",
    "# rearranging the columns of the whole stock_data\n",
    "stock_data = stock_data[['Close', 'compound', 'negative', 'neutral', 'positive', 'Open', 'High', 'Low', 'Volume']]\n",
    "\n",
    "# set the index name\n",
    "stock_data.index.name = 'Date'\n",
    "\n",
    "# displaying the final stock_data\n",
    "stock_data.head()"
   ]
  },
  {
   "cell_type": "code",
   "execution_count": 17,
   "metadata": {
    "id": "LhyJwiVQ0g2d"
   },
   "outputs": [],
   "source": [
    "# writing the prepared stock_data to disk\n",
    "stock_data.to_csv('stock_data.csv')"
   ]
  },
  {
   "cell_type": "markdown",
   "metadata": {
    "id": "m7nmqLF2erIl"
   },
   "source": [
    "# 6. Exploratory Data Analysis"
   ]
  },
  {
   "cell_type": "code",
   "execution_count": 18,
   "metadata": {
    "colab": {
     "base_uri": "https://localhost:8080/"
    },
    "id": "wEsVZPdH1DJI",
    "outputId": "5cdf7761-ed81-456d-e3d2-e89eedc96b81"
   },
   "outputs": [
    {
     "data": {
      "text/plain": [
       "(2457, 9)"
      ]
     },
     "execution_count": 18,
     "metadata": {},
     "output_type": "execute_result"
    }
   ],
   "source": [
    "# displaying the shape i.e. number of rows and columns of stock_data\n",
    "stock_data.shape"
   ]
  },
  {
   "cell_type": "code",
   "execution_count": 19,
   "metadata": {
    "colab": {
     "base_uri": "https://localhost:8080/"
    },
    "id": "5xH1D9aU1kdc",
    "outputId": "7da13b32-91f9-4a71-8567-c996f8e4dfe8"
   },
   "outputs": [
    {
     "data": {
      "text/plain": [
       "Close       False\n",
       "compound    False\n",
       "negative    False\n",
       "neutral     False\n",
       "positive    False\n",
       "Open        False\n",
       "High        False\n",
       "Low         False\n",
       "Volume      False\n",
       "dtype: bool"
      ]
     },
     "execution_count": 19,
     "metadata": {},
     "output_type": "execute_result"
    }
   ],
   "source": [
    "# checking for null values\n",
    "stock_data.isna().any()"
   ]
  },
  {
   "cell_type": "code",
   "execution_count": 20,
   "metadata": {
    "colab": {
     "base_uri": "https://localhost:8080/",
     "height": 284
    },
    "id": "ohR1UD9O1vNt",
    "outputId": "884a7faf-c7e0-42dc-e72f-9d77ece0d298"
   },
   "outputs": [
    {
     "data": {
      "text/html": [
       "<div>\n",
       "<style scoped>\n",
       "    .dataframe tbody tr th:only-of-type {\n",
       "        vertical-align: middle;\n",
       "    }\n",
       "\n",
       "    .dataframe tbody tr th {\n",
       "        vertical-align: top;\n",
       "    }\n",
       "\n",
       "    .dataframe thead th {\n",
       "        text-align: right;\n",
       "    }\n",
       "</style>\n",
       "<table border=\"1\" class=\"dataframe\">\n",
       "  <thead>\n",
       "    <tr style=\"text-align: right;\">\n",
       "      <th></th>\n",
       "      <th>Close</th>\n",
       "      <th>compound</th>\n",
       "      <th>negative</th>\n",
       "      <th>neutral</th>\n",
       "      <th>positive</th>\n",
       "      <th>Open</th>\n",
       "      <th>High</th>\n",
       "      <th>Low</th>\n",
       "      <th>Volume</th>\n",
       "    </tr>\n",
       "  </thead>\n",
       "  <tbody>\n",
       "    <tr>\n",
       "      <th>count</th>\n",
       "      <td>2457.000000</td>\n",
       "      <td>2457.000000</td>\n",
       "      <td>2457.000000</td>\n",
       "      <td>2457.000000</td>\n",
       "      <td>2457.000000</td>\n",
       "      <td>2457.000000</td>\n",
       "      <td>2457.000000</td>\n",
       "      <td>2457.000000</td>\n",
       "      <td>2457.000000</td>\n",
       "    </tr>\n",
       "    <tr>\n",
       "      <th>mean</th>\n",
       "      <td>9783.547835</td>\n",
       "      <td>-0.808506</td>\n",
       "      <td>0.122166</td>\n",
       "      <td>0.793945</td>\n",
       "      <td>0.083889</td>\n",
       "      <td>9790.080613</td>\n",
       "      <td>9877.680482</td>\n",
       "      <td>9687.148305</td>\n",
       "      <td>17855.759056</td>\n",
       "    </tr>\n",
       "    <tr>\n",
       "      <th>std</th>\n",
       "      <td>5642.934582</td>\n",
       "      <td>0.531873</td>\n",
       "      <td>0.028591</td>\n",
       "      <td>0.039834</td>\n",
       "      <td>0.025806</td>\n",
       "      <td>5648.579189</td>\n",
       "      <td>5694.812534</td>\n",
       "      <td>5589.400583</td>\n",
       "      <td>15731.580680</td>\n",
       "    </tr>\n",
       "    <tr>\n",
       "      <th>min</th>\n",
       "      <td>2600.120117</td>\n",
       "      <td>-1.000000</td>\n",
       "      <td>0.000000</td>\n",
       "      <td>0.000000</td>\n",
       "      <td>0.000000</td>\n",
       "      <td>2621.889893</td>\n",
       "      <td>2682.590088</td>\n",
       "      <td>2594.870117</td>\n",
       "      <td>0.000000</td>\n",
       "    </tr>\n",
       "    <tr>\n",
       "      <th>25%</th>\n",
       "      <td>4234.569824</td>\n",
       "      <td>-0.998800</td>\n",
       "      <td>0.105000</td>\n",
       "      <td>0.771000</td>\n",
       "      <td>0.071000</td>\n",
       "      <td>4248.069824</td>\n",
       "      <td>4277.640137</td>\n",
       "      <td>4173.359863</td>\n",
       "      <td>8600.000000</td>\n",
       "    </tr>\n",
       "    <tr>\n",
       "      <th>50%</th>\n",
       "      <td>8954.860352</td>\n",
       "      <td>-0.996000</td>\n",
       "      <td>0.122000</td>\n",
       "      <td>0.794000</td>\n",
       "      <td>0.083000</td>\n",
       "      <td>8956.299805</td>\n",
       "      <td>9080.759766</td>\n",
       "      <td>8826.389648</td>\n",
       "      <td>16800.000000</td>\n",
       "    </tr>\n",
       "    <tr>\n",
       "      <th>75%</th>\n",
       "      <td>14880.240230</td>\n",
       "      <td>-0.979400</td>\n",
       "      <td>0.140000</td>\n",
       "      <td>0.817000</td>\n",
       "      <td>0.095000</td>\n",
       "      <td>14892.599610</td>\n",
       "      <td>15029.530270</td>\n",
       "      <td>14685.450200</td>\n",
       "      <td>25400.000000</td>\n",
       "    </tr>\n",
       "    <tr>\n",
       "      <th>max</th>\n",
       "      <td>20932.480470</td>\n",
       "      <td>1.000000</td>\n",
       "      <td>0.444000</td>\n",
       "      <td>1.000000</td>\n",
       "      <td>0.608000</td>\n",
       "      <td>21041.970700</td>\n",
       "      <td>21206.769530</td>\n",
       "      <td>20849.919920</td>\n",
       "      <td>217600.000000</td>\n",
       "    </tr>\n",
       "  </tbody>\n",
       "</table>\n",
       "</div>"
      ],
      "text/plain": [
       "              Close     compound     negative      neutral     positive  \\\n",
       "count   2457.000000  2457.000000  2457.000000  2457.000000  2457.000000   \n",
       "mean    9783.547835    -0.808506     0.122166     0.793945     0.083889   \n",
       "std     5642.934582     0.531873     0.028591     0.039834     0.025806   \n",
       "min     2600.120117    -1.000000     0.000000     0.000000     0.000000   \n",
       "25%     4234.569824    -0.998800     0.105000     0.771000     0.071000   \n",
       "50%     8954.860352    -0.996000     0.122000     0.794000     0.083000   \n",
       "75%    14880.240230    -0.979400     0.140000     0.817000     0.095000   \n",
       "max    20932.480470     1.000000     0.444000     1.000000     0.608000   \n",
       "\n",
       "               Open          High           Low         Volume  \n",
       "count   2457.000000   2457.000000   2457.000000    2457.000000  \n",
       "mean    9790.080613   9877.680482   9687.148305   17855.759056  \n",
       "std     5648.579189   5694.812534   5589.400583   15731.580680  \n",
       "min     2621.889893   2682.590088   2594.870117       0.000000  \n",
       "25%     4248.069824   4277.640137   4173.359863    8600.000000  \n",
       "50%     8956.299805   9080.759766   8826.389648   16800.000000  \n",
       "75%    14892.599610  15029.530270  14685.450200   25400.000000  \n",
       "max    21041.970700  21206.769530  20849.919920  217600.000000  "
      ]
     },
     "execution_count": 20,
     "metadata": {},
     "output_type": "execute_result"
    }
   ],
   "source": [
    "# displaying stock_data statistics\n",
    "stock_data.describe(include='all')\n"
   ]
  },
  {
   "cell_type": "code",
   "execution_count": 21,
   "metadata": {
    "colab": {
     "base_uri": "https://localhost:8080/"
    },
    "id": "PfO44u2c1zxK",
    "outputId": "0c777a41-3de8-456f-998f-49d46a03ccc3"
   },
   "outputs": [
    {
     "name": "stdout",
     "output_type": "stream",
     "text": [
      "<class 'pandas.core.frame.DataFrame'>\n",
      "DatetimeIndex: 2457 entries, 2001-01-02 to 2011-01-21\n",
      "Data columns (total 9 columns):\n",
      " #   Column    Non-Null Count  Dtype  \n",
      "---  ------    --------------  -----  \n",
      " 0   Close     2457 non-null   float64\n",
      " 1   compound  2457 non-null   float64\n",
      " 2   negative  2457 non-null   float64\n",
      " 3   neutral   2457 non-null   float64\n",
      " 4   positive  2457 non-null   float64\n",
      " 5   Open      2457 non-null   float64\n",
      " 6   High      2457 non-null   float64\n",
      " 7   Low       2457 non-null   float64\n",
      " 8   Volume    2457 non-null   float64\n",
      "dtypes: float64(9)\n",
      "memory usage: 192.0 KB\n"
     ]
    }
   ],
   "source": [
    "# displaying stock_data information\n",
    "stock_data.info()"
   ]
  },
  {
   "cell_type": "code",
   "execution_count": 22,
   "metadata": {
    "colab": {
     "base_uri": "https://localhost:8080/",
     "height": 596
    },
    "id": "AkKPDLIn13U8",
    "outputId": "d5f2c3ff-ca38-4d59-9637-6bebb5f13adb"
   },
   "outputs": [
    {
     "data": {
      "text/plain": [
       "Text(0, 0.5, 'Close Price ($)')"
      ]
     },
     "execution_count": 22,
     "metadata": {},
     "output_type": "execute_result"
    },
    {
     "data": {
      "image/png": "[encoded data removed]",
      "text/plain": [
       "<Figure size 2000x1000 with 1 Axes>"
      ]
     },
     "metadata": {},
     "output_type": "display_data"
    }
   ],
   "source": [
    "# setting figure size\n",
    "plt.figure(figsize=(20,10))\n",
    "\n",
    "# plotting close price\n",
    "stock_data['Close'].plot()\n",
    "\n",
    "# setting plot title, x and y labels\n",
    "plt.title(\"Close Price\")\n",
    "plt.xlabel('Date')\n",
    "plt.ylabel('Close Price ($)')"
   ]
  },
  {
   "cell_type": "code",
   "execution_count": 23,
   "metadata": {
    "colab": {
     "base_uri": "https://localhost:8080/",
     "height": 669
    },
    "id": "OQjzbQI02DLh",
    "outputId": "dfa7237a-a4cf-4c04-8967-c821045f5085"
   },
   "outputs": [
    {
     "data": {
      "text/html": [
       "<div>\n",
       "<style scoped>\n",
       "    .dataframe tbody tr th:only-of-type {\n",
       "        vertical-align: middle;\n",
       "    }\n",
       "\n",
       "    .dataframe tbody tr th {\n",
       "        vertical-align: top;\n",
       "    }\n",
       "\n",
       "    .dataframe thead th {\n",
       "        text-align: right;\n",
       "    }\n",
       "</style>\n",
       "<table border=\"1\" class=\"dataframe\">\n",
       "  <thead>\n",
       "    <tr style=\"text-align: right;\">\n",
       "      <th></th>\n",
       "      <th>Close</th>\n",
       "      <th>compound</th>\n",
       "      <th>negative</th>\n",
       "      <th>neutral</th>\n",
       "      <th>positive</th>\n",
       "      <th>Open</th>\n",
       "      <th>High</th>\n",
       "      <th>Low</th>\n",
       "      <th>Volume</th>\n",
       "    </tr>\n",
       "    <tr>\n",
       "      <th>Date</th>\n",
       "      <th></th>\n",
       "      <th></th>\n",
       "      <th></th>\n",
       "      <th></th>\n",
       "      <th></th>\n",
       "      <th></th>\n",
       "      <th></th>\n",
       "      <th></th>\n",
       "      <th></th>\n",
       "    </tr>\n",
       "  </thead>\n",
       "  <tbody>\n",
       "    <tr>\n",
       "      <th>2001-01-02</th>\n",
       "      <td>NaN</td>\n",
       "      <td>NaN</td>\n",
       "      <td>NaN</td>\n",
       "      <td>NaN</td>\n",
       "      <td>NaN</td>\n",
       "      <td>NaN</td>\n",
       "      <td>NaN</td>\n",
       "      <td>NaN</td>\n",
       "      <td>NaN</td>\n",
       "    </tr>\n",
       "    <tr>\n",
       "      <th>2001-01-03</th>\n",
       "      <td>NaN</td>\n",
       "      <td>NaN</td>\n",
       "      <td>NaN</td>\n",
       "      <td>NaN</td>\n",
       "      <td>NaN</td>\n",
       "      <td>NaN</td>\n",
       "      <td>NaN</td>\n",
       "      <td>NaN</td>\n",
       "      <td>NaN</td>\n",
       "    </tr>\n",
       "    <tr>\n",
       "      <th>2001-01-04</th>\n",
       "      <td>NaN</td>\n",
       "      <td>NaN</td>\n",
       "      <td>NaN</td>\n",
       "      <td>NaN</td>\n",
       "      <td>NaN</td>\n",
       "      <td>NaN</td>\n",
       "      <td>NaN</td>\n",
       "      <td>NaN</td>\n",
       "      <td>NaN</td>\n",
       "    </tr>\n",
       "    <tr>\n",
       "      <th>2001-01-05</th>\n",
       "      <td>NaN</td>\n",
       "      <td>NaN</td>\n",
       "      <td>NaN</td>\n",
       "      <td>NaN</td>\n",
       "      <td>NaN</td>\n",
       "      <td>NaN</td>\n",
       "      <td>NaN</td>\n",
       "      <td>NaN</td>\n",
       "      <td>NaN</td>\n",
       "    </tr>\n",
       "    <tr>\n",
       "      <th>2001-01-08</th>\n",
       "      <td>NaN</td>\n",
       "      <td>NaN</td>\n",
       "      <td>NaN</td>\n",
       "      <td>NaN</td>\n",
       "      <td>NaN</td>\n",
       "      <td>NaN</td>\n",
       "      <td>NaN</td>\n",
       "      <td>NaN</td>\n",
       "      <td>NaN</td>\n",
       "    </tr>\n",
       "    <tr>\n",
       "      <th>2001-01-09</th>\n",
       "      <td>NaN</td>\n",
       "      <td>NaN</td>\n",
       "      <td>NaN</td>\n",
       "      <td>NaN</td>\n",
       "      <td>NaN</td>\n",
       "      <td>NaN</td>\n",
       "      <td>NaN</td>\n",
       "      <td>NaN</td>\n",
       "      <td>NaN</td>\n",
       "    </tr>\n",
       "    <tr>\n",
       "      <th>2001-01-10</th>\n",
       "      <td>4095.911447</td>\n",
       "      <td>-0.175914</td>\n",
       "      <td>0.121571</td>\n",
       "      <td>0.810143</td>\n",
       "      <td>0.068000</td>\n",
       "      <td>4094.170027</td>\n",
       "      <td>4143.089983</td>\n",
       "      <td>4052.832799</td>\n",
       "      <td>0.0</td>\n",
       "    </tr>\n",
       "    <tr>\n",
       "      <th>2001-01-23</th>\n",
       "      <td>4135.598598</td>\n",
       "      <td>0.094314</td>\n",
       "      <td>0.109714</td>\n",
       "      <td>0.818286</td>\n",
       "      <td>0.071714</td>\n",
       "      <td>4140.542899</td>\n",
       "      <td>4184.972831</td>\n",
       "      <td>4101.904227</td>\n",
       "      <td>0.0</td>\n",
       "    </tr>\n",
       "    <tr>\n",
       "      <th>2001-01-24</th>\n",
       "      <td>4173.655727</td>\n",
       "      <td>-0.125129</td>\n",
       "      <td>0.111429</td>\n",
       "      <td>0.825000</td>\n",
       "      <td>0.063429</td>\n",
       "      <td>4189.532854</td>\n",
       "      <td>4223.794294</td>\n",
       "      <td>4147.351353</td>\n",
       "      <td>0.0</td>\n",
       "    </tr>\n",
       "    <tr>\n",
       "      <th>2001-01-25</th>\n",
       "      <td>4204.348598</td>\n",
       "      <td>-0.360643</td>\n",
       "      <td>0.119857</td>\n",
       "      <td>0.817429</td>\n",
       "      <td>0.062429</td>\n",
       "      <td>4210.514230</td>\n",
       "      <td>4246.702846</td>\n",
       "      <td>4170.801409</td>\n",
       "      <td>0.0</td>\n",
       "    </tr>\n",
       "    <tr>\n",
       "      <th>2001-01-29</th>\n",
       "      <td>4211.611433</td>\n",
       "      <td>-0.354300</td>\n",
       "      <td>0.110857</td>\n",
       "      <td>0.829571</td>\n",
       "      <td>0.059143</td>\n",
       "      <td>4216.588518</td>\n",
       "      <td>4256.381417</td>\n",
       "      <td>4177.017090</td>\n",
       "      <td>0.0</td>\n",
       "    </tr>\n",
       "    <tr>\n",
       "      <th>2001-01-30</th>\n",
       "      <td>4247.555699</td>\n",
       "      <td>-0.339186</td>\n",
       "      <td>0.110571</td>\n",
       "      <td>0.822857</td>\n",
       "      <td>0.066143</td>\n",
       "      <td>4231.538574</td>\n",
       "      <td>4280.167132</td>\n",
       "      <td>4199.192801</td>\n",
       "      <td>0.0</td>\n",
       "    </tr>\n",
       "    <tr>\n",
       "      <th>2001-01-31</th>\n",
       "      <td>4276.328578</td>\n",
       "      <td>-0.282500</td>\n",
       "      <td>0.107000</td>\n",
       "      <td>0.825857</td>\n",
       "      <td>0.066857</td>\n",
       "      <td>4267.658552</td>\n",
       "      <td>4314.808594</td>\n",
       "      <td>4230.860003</td>\n",
       "      <td>0.0</td>\n",
       "    </tr>\n",
       "    <tr>\n",
       "      <th>2001-02-01</th>\n",
       "      <td>4310.395717</td>\n",
       "      <td>-0.319400</td>\n",
       "      <td>0.089571</td>\n",
       "      <td>0.833857</td>\n",
       "      <td>0.076286</td>\n",
       "      <td>4289.308524</td>\n",
       "      <td>4343.312919</td>\n",
       "      <td>4258.678571</td>\n",
       "      <td>0.0</td>\n",
       "    </tr>\n",
       "    <tr>\n",
       "      <th>2001-02-02</th>\n",
       "      <td>4318.334263</td>\n",
       "      <td>-0.313714</td>\n",
       "      <td>0.094143</td>\n",
       "      <td>0.811000</td>\n",
       "      <td>0.094571</td>\n",
       "      <td>4289.755650</td>\n",
       "      <td>4350.691476</td>\n",
       "      <td>4259.834263</td>\n",
       "      <td>0.0</td>\n",
       "    </tr>\n",
       "    <tr>\n",
       "      <th>2001-02-05</th>\n",
       "      <td>4324.627162</td>\n",
       "      <td>-0.109343</td>\n",
       "      <td>0.097286</td>\n",
       "      <td>0.793286</td>\n",
       "      <td>0.109143</td>\n",
       "      <td>4292.185686</td>\n",
       "      <td>4358.945731</td>\n",
       "      <td>4265.807129</td>\n",
       "      <td>0.0</td>\n",
       "    </tr>\n",
       "    <tr>\n",
       "      <th>2001-02-06</th>\n",
       "      <td>4331.065709</td>\n",
       "      <td>0.140486</td>\n",
       "      <td>0.087000</td>\n",
       "      <td>0.799286</td>\n",
       "      <td>0.113571</td>\n",
       "      <td>4301.385742</td>\n",
       "      <td>4367.994280</td>\n",
       "      <td>4279.554269</td>\n",
       "      <td>0.0</td>\n",
       "    </tr>\n",
       "    <tr>\n",
       "      <th>2001-02-07</th>\n",
       "      <td>4342.260045</td>\n",
       "      <td>0.121786</td>\n",
       "      <td>0.089714</td>\n",
       "      <td>0.797000</td>\n",
       "      <td>0.113286</td>\n",
       "      <td>4332.537179</td>\n",
       "      <td>4384.631487</td>\n",
       "      <td>4300.185687</td>\n",
       "      <td>0.0</td>\n",
       "    </tr>\n",
       "    <tr>\n",
       "      <th>2001-02-08</th>\n",
       "      <td>4343.567174</td>\n",
       "      <td>0.371843</td>\n",
       "      <td>0.079571</td>\n",
       "      <td>0.799571</td>\n",
       "      <td>0.120857</td>\n",
       "      <td>4336.031459</td>\n",
       "      <td>4386.721470</td>\n",
       "      <td>4305.059989</td>\n",
       "      <td>0.0</td>\n",
       "    </tr>\n",
       "    <tr>\n",
       "      <th>2001-02-09</th>\n",
       "      <td>4353.654297</td>\n",
       "      <td>0.589529</td>\n",
       "      <td>0.075714</td>\n",
       "      <td>0.790143</td>\n",
       "      <td>0.134143</td>\n",
       "      <td>4340.011440</td>\n",
       "      <td>4390.600028</td>\n",
       "      <td>4314.389997</td>\n",
       "      <td>0.0</td>\n",
       "    </tr>\n",
       "  </tbody>\n",
       "</table>\n",
       "</div>"
      ],
      "text/plain": [
       "                  Close  compound  negative   neutral  positive         Open  \\\n",
       "Date                                                                           \n",
       "2001-01-02          NaN       NaN       NaN       NaN       NaN          NaN   \n",
       "2001-01-03          NaN       NaN       NaN       NaN       NaN          NaN   \n",
       "2001-01-04          NaN       NaN       NaN       NaN       NaN          NaN   \n",
       "2001-01-05          NaN       NaN       NaN       NaN       NaN          NaN   \n",
       "2001-01-08          NaN       NaN       NaN       NaN       NaN          NaN   \n",
       "2001-01-09          NaN       NaN       NaN       NaN       NaN          NaN   \n",
       "2001-01-10  4095.911447 -0.175914  0.121571  0.810143  0.068000  4094.170027   \n",
       "2001-01-23  4135.598598  0.094314  0.109714  0.818286  0.071714  4140.542899   \n",
       "2001-01-24  4173.655727 -0.125129  0.111429  0.825000  0.063429  4189.532854   \n",
       "2001-01-25  4204.348598 -0.360643  0.119857  0.817429  0.062429  4210.514230   \n",
       "2001-01-29  4211.611433 -0.354300  0.110857  0.829571  0.059143  4216.588518   \n",
       "2001-01-30  4247.555699 -0.339186  0.110571  0.822857  0.066143  4231.538574   \n",
       "2001-01-31  4276.328578 -0.282500  0.107000  0.825857  0.066857  4267.658552   \n",
       "2001-02-01  4310.395717 -0.319400  0.089571  0.833857  0.076286  4289.308524   \n",
       "2001-02-02  4318.334263 -0.313714  0.094143  0.811000  0.094571  4289.755650   \n",
       "2001-02-05  4324.627162 -0.109343  0.097286  0.793286  0.109143  4292.185686   \n",
       "2001-02-06  4331.065709  0.140486  0.087000  0.799286  0.113571  4301.385742   \n",
       "2001-02-07  4342.260045  0.121786  0.089714  0.797000  0.113286  4332.537179   \n",
       "2001-02-08  4343.567174  0.371843  0.079571  0.799571  0.120857  4336.031459   \n",
       "2001-02-09  4353.654297  0.589529  0.075714  0.790143  0.134143  4340.011440   \n",
       "\n",
       "                   High          Low  Volume  \n",
       "Date                                          \n",
       "2001-01-02          NaN          NaN     NaN  \n",
       "2001-01-03          NaN          NaN     NaN  \n",
       "2001-01-04          NaN          NaN     NaN  \n",
       "2001-01-05          NaN          NaN     NaN  \n",
       "2001-01-08          NaN          NaN     NaN  \n",
       "2001-01-09          NaN          NaN     NaN  \n",
       "2001-01-10  4143.089983  4052.832799     0.0  \n",
       "2001-01-23  4184.972831  4101.904227     0.0  \n",
       "2001-01-24  4223.794294  4147.351353     0.0  \n",
       "2001-01-25  4246.702846  4170.801409     0.0  \n",
       "2001-01-29  4256.381417  4177.017090     0.0  \n",
       "2001-01-30  4280.167132  4199.192801     0.0  \n",
       "2001-01-31  4314.808594  4230.860003     0.0  \n",
       "2001-02-01  4343.312919  4258.678571     0.0  \n",
       "2001-02-02  4350.691476  4259.834263     0.0  \n",
       "2001-02-05  4358.945731  4265.807129     0.0  \n",
       "2001-02-06  4367.994280  4279.554269     0.0  \n",
       "2001-02-07  4384.631487  4300.185687     0.0  \n",
       "2001-02-08  4386.721470  4305.059989     0.0  \n",
       "2001-02-09  4390.600028  4314.389997     0.0  "
      ]
     },
     "execution_count": 23,
     "metadata": {},
     "output_type": "execute_result"
    }
   ],
   "source": [
    "# calculating 7 day rolling mean\n",
    "stock_data.rolling(7).mean().head(20)"
   ]
  },
  {
   "cell_type": "code",
   "execution_count": 24,
   "metadata": {
    "colab": {
     "base_uri": "https://localhost:8080/",
     "height": 584
    },
    "id": "7hfhZNOp2hX_",
    "outputId": "835c59e1-fe12-4460-8bc7-fffcf361a4cf"
   },
   "outputs": [
    {
     "data": {
      "text/plain": [
       "<Axes: xlabel='Date'>"
      ]
     },
     "execution_count": 24,
     "metadata": {},
     "output_type": "execute_result"
    },
    {
     "data": {
      "image/png": "[encoded data removed]",
      "text/plain": [
       "<Figure size 1600x1000 with 1 Axes>"
      ]
     },
     "metadata": {},
     "output_type": "display_data"
    }
   ],
   "source": [
    "# setting figure size\n",
    "plt.figure(figsize=(16,10))\n",
    "\n",
    "# plotting the close price and a 30-day rolling mean of close price\n",
    "stock_data['Close'].plot()\n",
    "stock_data.rolling(window=30).mean()['Close'].plot()"
   ]
  },
  {
   "cell_type": "markdown",
   "metadata": {
    "id": "nR42sXpie7ay"
   },
   "source": [
    "# 7. Data Preparation "
   ]
  },
  {
   "cell_type": "code",
   "execution_count": 25,
   "metadata": {
    "colab": {
     "base_uri": "https://localhost:8080/"
    },
    "id": "vvi9cLMP2qtl",
    "outputId": "079d7cd9-1c0d-4b49-c347-852af9ec7dd7"
   },
   "outputs": [
    {
     "name": "stdout",
     "output_type": "stream",
     "text": [
      "Number of records in Training Data: 1964\n",
      "Number of records in Test Data: 493\n"
     ]
    }
   ],
   "source": [
    "# calculating data_to_use\n",
    "percentage_of_data = 1.0\n",
    "data_to_use = int(percentage_of_data*(len(stock_data)-1))\n",
    "\n",
    "# using 80% of data for training\n",
    "train_end = int(data_to_use*0.8)\n",
    "total_data = len(stock_data)\n",
    "start = total_data - data_to_use\n",
    "\n",
    "# printing number of records in the training and test datasets\n",
    "print(\"Number of records in Training Data:\", train_end)\n",
    "print(\"Number of records in Test Data:\", total_data - train_end)"
   ]
  },
  {
   "cell_type": "code",
   "execution_count": 26,
   "metadata": {
    "colab": {
     "base_uri": "https://localhost:8080/"
    },
    "id": "5Dw8TpUR4UFb",
    "outputId": "d570cd99-7c9a-4374-ea53-1a5add67eab5"
   },
   "outputs": [
    {
     "name": "stdout",
     "output_type": "stream",
     "text": [
      "Close Price:\n"
     ]
    },
    {
     "data": {
      "text/plain": [
       "Date\n",
       "2001-01-03     4060.020020\n",
       "2001-01-04     4115.370117\n",
       "2001-01-05     4183.729980\n",
       "2001-01-08     4120.430176\n",
       "2001-01-09     4125.310059\n",
       "                  ...     \n",
       "2011-01-17    18882.250000\n",
       "2011-01-18    19092.050780\n",
       "2011-01-19    18978.320310\n",
       "2011-01-20    19046.539060\n",
       "2011-01-21    19007.529300\n",
       "Name: Close, Length: 2456, dtype: float64"
      ]
     },
     "execution_count": 26,
     "metadata": {},
     "output_type": "execute_result"
    }
   ],
   "source": [
    "# predicting one step ahead\n",
    "steps_to_predict = 1\n",
    "\n",
    "# capturing data to be used for each column\n",
    "close_price = stock_data.iloc[start:total_data,0] #close\n",
    "compound = stock_data.iloc[start:total_data,1] #compound\n",
    "negative = stock_data.iloc[start:total_data,2] #neg\n",
    "neutral = stock_data.iloc[start:total_data,3] #neu\n",
    "positive = stock_data.iloc[start:total_data,4] #pos\n",
    "open_price = stock_data.iloc[start:total_data,5] #open\n",
    "high = stock_data.iloc[start:total_data,6] #high\n",
    "low = stock_data.iloc[start:total_data,7] #low\n",
    "volume = stock_data.iloc[start:total_data,8] #volume\n",
    "\n",
    "# printing close price\n",
    "print(\"Close Price:\")\n",
    "close_price"
   ]
  },
  {
   "cell_type": "code",
   "execution_count": 27,
   "metadata": {
    "colab": {
     "base_uri": "https://localhost:8080/",
     "height": 373
    },
    "id": "V5rUvuri4aDP",
    "outputId": "3fd07575-45da-4f68-e9fb-3b797f9b4dbf"
   },
   "outputs": [
    {
     "data": {
      "text/html": [
       "<div>\n",
       "<style scoped>\n",
       "    .dataframe tbody tr th:only-of-type {\n",
       "        vertical-align: middle;\n",
       "    }\n",
       "\n",
       "    .dataframe tbody tr th {\n",
       "        vertical-align: top;\n",
       "    }\n",
       "\n",
       "    .dataframe thead th {\n",
       "        text-align: right;\n",
       "    }\n",
       "</style>\n",
       "<table border=\"1\" class=\"dataframe\">\n",
       "  <thead>\n",
       "    <tr style=\"text-align: right;\">\n",
       "      <th></th>\n",
       "      <th>close_price</th>\n",
       "      <th>close_price_shifted</th>\n",
       "      <th>compound</th>\n",
       "      <th>compound_shifted</th>\n",
       "      <th>volume</th>\n",
       "      <th>open_price</th>\n",
       "      <th>high</th>\n",
       "      <th>low</th>\n",
       "    </tr>\n",
       "    <tr>\n",
       "      <th>Date</th>\n",
       "      <th></th>\n",
       "      <th></th>\n",
       "      <th></th>\n",
       "      <th></th>\n",
       "      <th></th>\n",
       "      <th></th>\n",
       "      <th></th>\n",
       "      <th></th>\n",
       "    </tr>\n",
       "  </thead>\n",
       "  <tbody>\n",
       "    <tr>\n",
       "      <th>2001-01-03</th>\n",
       "      <td>4060.020020</td>\n",
       "      <td>4115.370117</td>\n",
       "      <td>0.6322</td>\n",
       "      <td>0.6648</td>\n",
       "      <td>0.0</td>\n",
       "      <td>3977.580078</td>\n",
       "      <td>4067.659912</td>\n",
       "      <td>3977.580078</td>\n",
       "    </tr>\n",
       "    <tr>\n",
       "      <th>2001-01-04</th>\n",
       "      <td>4115.370117</td>\n",
       "      <td>4183.729980</td>\n",
       "      <td>0.6648</td>\n",
       "      <td>0.9253</td>\n",
       "      <td>0.0</td>\n",
       "      <td>4180.970215</td>\n",
       "      <td>4180.970215</td>\n",
       "      <td>4109.549805</td>\n",
       "    </tr>\n",
       "    <tr>\n",
       "      <th>2001-01-05</th>\n",
       "      <td>4183.729980</td>\n",
       "      <td>4120.430176</td>\n",
       "      <td>0.9253</td>\n",
       "      <td>-0.9638</td>\n",
       "      <td>0.0</td>\n",
       "      <td>4116.339844</td>\n",
       "      <td>4195.009766</td>\n",
       "      <td>4115.350098</td>\n",
       "    </tr>\n",
       "    <tr>\n",
       "      <th>2001-01-08</th>\n",
       "      <td>4120.430176</td>\n",
       "      <td>4125.310059</td>\n",
       "      <td>-0.9638</td>\n",
       "      <td>-0.9559</td>\n",
       "      <td>0.0</td>\n",
       "      <td>4164.759766</td>\n",
       "      <td>4206.720215</td>\n",
       "      <td>4101.529785</td>\n",
       "    </tr>\n",
       "    <tr>\n",
       "      <th>2001-01-09</th>\n",
       "      <td>4125.310059</td>\n",
       "      <td>4047.639893</td>\n",
       "      <td>-0.9559</td>\n",
       "      <td>-0.5719</td>\n",
       "      <td>0.0</td>\n",
       "      <td>4114.740234</td>\n",
       "      <td>4166.839844</td>\n",
       "      <td>4101.009766</td>\n",
       "    </tr>\n",
       "    <tr>\n",
       "      <th>2001-01-10</th>\n",
       "      <td>4047.639893</td>\n",
       "      <td>4296.689941</td>\n",
       "      <td>-0.5719</td>\n",
       "      <td>0.9295</td>\n",
       "      <td>0.0</td>\n",
       "      <td>4151.580078</td>\n",
       "      <td>4155.859863</td>\n",
       "      <td>4035.439941</td>\n",
       "    </tr>\n",
       "    <tr>\n",
       "      <th>2001-01-23</th>\n",
       "      <td>4296.689941</td>\n",
       "      <td>4326.419922</td>\n",
       "      <td>0.9295</td>\n",
       "      <td>-0.9039</td>\n",
       "      <td>0.0</td>\n",
       "      <td>4277.830078</td>\n",
       "      <td>4321.750000</td>\n",
       "      <td>4272.870117</td>\n",
       "    </tr>\n",
       "    <tr>\n",
       "      <th>2001-01-24</th>\n",
       "      <td>4326.419922</td>\n",
       "      <td>4330.220215</td>\n",
       "      <td>-0.9039</td>\n",
       "      <td>-0.9838</td>\n",
       "      <td>0.0</td>\n",
       "      <td>4320.509766</td>\n",
       "      <td>4339.410156</td>\n",
       "      <td>4295.709961</td>\n",
       "    </tr>\n",
       "    <tr>\n",
       "      <th>2001-01-25</th>\n",
       "      <td>4330.220215</td>\n",
       "      <td>4234.569824</td>\n",
       "      <td>-0.9838</td>\n",
       "      <td>0.9697</td>\n",
       "      <td>0.0</td>\n",
       "      <td>4327.839844</td>\n",
       "      <td>4341.330078</td>\n",
       "      <td>4273.700195</td>\n",
       "    </tr>\n",
       "    <tr>\n",
       "      <th>2001-01-29</th>\n",
       "      <td>4234.569824</td>\n",
       "      <td>4372.040039</td>\n",
       "      <td>0.9697</td>\n",
       "      <td>-0.8580</td>\n",
       "      <td>0.0</td>\n",
       "      <td>4158.859863</td>\n",
       "      <td>4262.759766</td>\n",
       "      <td>4158.859863</td>\n",
       "    </tr>\n",
       "  </tbody>\n",
       "</table>\n",
       "</div>"
      ],
      "text/plain": [
       "            close_price  close_price_shifted  compound  compound_shifted  \\\n",
       "Date                                                                       \n",
       "2001-01-03  4060.020020          4115.370117    0.6322            0.6648   \n",
       "2001-01-04  4115.370117          4183.729980    0.6648            0.9253   \n",
       "2001-01-05  4183.729980          4120.430176    0.9253           -0.9638   \n",
       "2001-01-08  4120.430176          4125.310059   -0.9638           -0.9559   \n",
       "2001-01-09  4125.310059          4047.639893   -0.9559           -0.5719   \n",
       "2001-01-10  4047.639893          4296.689941   -0.5719            0.9295   \n",
       "2001-01-23  4296.689941          4326.419922    0.9295           -0.9039   \n",
       "2001-01-24  4326.419922          4330.220215   -0.9039           -0.9838   \n",
       "2001-01-25  4330.220215          4234.569824   -0.9838            0.9697   \n",
       "2001-01-29  4234.569824          4372.040039    0.9697           -0.8580   \n",
       "\n",
       "            volume   open_price         high          low  \n",
       "Date                                                       \n",
       "2001-01-03     0.0  3977.580078  4067.659912  3977.580078  \n",
       "2001-01-04     0.0  4180.970215  4180.970215  4109.549805  \n",
       "2001-01-05     0.0  4116.339844  4195.009766  4115.350098  \n",
       "2001-01-08     0.0  4164.759766  4206.720215  4101.529785  \n",
       "2001-01-09     0.0  4114.740234  4166.839844  4101.009766  \n",
       "2001-01-10     0.0  4151.580078  4155.859863  4035.439941  \n",
       "2001-01-23     0.0  4277.830078  4321.750000  4272.870117  \n",
       "2001-01-24     0.0  4320.509766  4339.410156  4295.709961  \n",
       "2001-01-25     0.0  4327.839844  4341.330078  4273.700195  \n",
       "2001-01-29     0.0  4158.859863  4262.759766  4158.859863  "
      ]
     },
     "execution_count": 27,
     "metadata": {},
     "output_type": "execute_result"
    }
   ],
   "source": [
    "# shifting next day close\n",
    "close_price_shifted = close_price.shift(-1) \n",
    "\n",
    "# shifting next day compound\n",
    "compound_shifted = compound.shift(-1) \n",
    "\n",
    "# concatenating the captured training data into a dataframe\n",
    "data = pd.concat([close_price, close_price_shifted, compound, compound_shifted, volume, open_price, high, low], axis=1)\n",
    "\n",
    "# setting column names of the revised stock data\n",
    "data.columns = ['close_price', 'close_price_shifted', 'compound', 'compound_shifted','volume', 'open_price', 'high', 'low']\n",
    "\n",
    "# dropping nulls\n",
    "data = data.dropna()    \n",
    "data.head(10)"
   ]
  },
  {
   "cell_type": "markdown",
   "metadata": {
    "id": "ipA6BZhNftDL"
   },
   "source": [
    "# 7.1. Setting Target Variable And Feature Dataset"
   ]
  },
  {
   "cell_type": "code",
   "execution_count": 28,
   "metadata": {
    "colab": {
     "base_uri": "https://localhost:8080/"
    },
    "id": "_YZQ0lL44gRM",
    "outputId": "bc3dee29-6a39-4a76-d360-6117f17005ea"
   },
   "outputs": [
    {
     "data": {
      "text/plain": [
       "Date\n",
       "2001-01-03     4115.370117\n",
       "2001-01-04     4183.729980\n",
       "2001-01-05     4120.430176\n",
       "2001-01-08     4125.310059\n",
       "2001-01-09     4047.639893\n",
       "                  ...     \n",
       "2011-01-14    18882.250000\n",
       "2011-01-17    19092.050780\n",
       "2011-01-18    18978.320310\n",
       "2011-01-19    19046.539060\n",
       "2011-01-20    19007.529300\n",
       "Name: close_price_shifted, Length: 2455, dtype: float64"
      ]
     },
     "execution_count": 28,
     "metadata": {},
     "output_type": "execute_result"
    }
   ],
   "source": [
    "# setting the target variable as the shifted close_price\n",
    "y = data['close_price_shifted']\n",
    "y"
   ]
  },
  {
   "cell_type": "code",
   "execution_count": 29,
   "metadata": {
    "colab": {
     "base_uri": "https://localhost:8080/",
     "height": 431
    },
    "id": "pF8V005j4lcr",
    "outputId": "e90b2777-aa9e-4364-c9cd-0b7a9dc4b1bb"
   },
   "outputs": [
    {
     "data": {
      "text/html": [
       "<div>\n",
       "<style scoped>\n",
       "    .dataframe tbody tr th:only-of-type {\n",
       "        vertical-align: middle;\n",
       "    }\n",
       "\n",
       "    .dataframe tbody tr th {\n",
       "        vertical-align: top;\n",
       "    }\n",
       "\n",
       "    .dataframe thead th {\n",
       "        text-align: right;\n",
       "    }\n",
       "</style>\n",
       "<table border=\"1\" class=\"dataframe\">\n",
       "  <thead>\n",
       "    <tr style=\"text-align: right;\">\n",
       "      <th></th>\n",
       "      <th>close_price</th>\n",
       "      <th>compound</th>\n",
       "      <th>compound_shifted</th>\n",
       "      <th>volume</th>\n",
       "      <th>open_price</th>\n",
       "      <th>high</th>\n",
       "      <th>low</th>\n",
       "    </tr>\n",
       "    <tr>\n",
       "      <th>Date</th>\n",
       "      <th></th>\n",
       "      <th></th>\n",
       "      <th></th>\n",
       "      <th></th>\n",
       "      <th></th>\n",
       "      <th></th>\n",
       "      <th></th>\n",
       "    </tr>\n",
       "  </thead>\n",
       "  <tbody>\n",
       "    <tr>\n",
       "      <th>2001-01-03</th>\n",
       "      <td>4060.020020</td>\n",
       "      <td>0.6322</td>\n",
       "      <td>0.6648</td>\n",
       "      <td>0.0</td>\n",
       "      <td>3977.580078</td>\n",
       "      <td>4067.659912</td>\n",
       "      <td>3977.580078</td>\n",
       "    </tr>\n",
       "    <tr>\n",
       "      <th>2001-01-04</th>\n",
       "      <td>4115.370117</td>\n",
       "      <td>0.6648</td>\n",
       "      <td>0.9253</td>\n",
       "      <td>0.0</td>\n",
       "      <td>4180.970215</td>\n",
       "      <td>4180.970215</td>\n",
       "      <td>4109.549805</td>\n",
       "    </tr>\n",
       "    <tr>\n",
       "      <th>2001-01-05</th>\n",
       "      <td>4183.729980</td>\n",
       "      <td>0.9253</td>\n",
       "      <td>-0.9638</td>\n",
       "      <td>0.0</td>\n",
       "      <td>4116.339844</td>\n",
       "      <td>4195.009766</td>\n",
       "      <td>4115.350098</td>\n",
       "    </tr>\n",
       "    <tr>\n",
       "      <th>2001-01-08</th>\n",
       "      <td>4120.430176</td>\n",
       "      <td>-0.9638</td>\n",
       "      <td>-0.9559</td>\n",
       "      <td>0.0</td>\n",
       "      <td>4164.759766</td>\n",
       "      <td>4206.720215</td>\n",
       "      <td>4101.529785</td>\n",
       "    </tr>\n",
       "    <tr>\n",
       "      <th>2001-01-09</th>\n",
       "      <td>4125.310059</td>\n",
       "      <td>-0.9559</td>\n",
       "      <td>-0.5719</td>\n",
       "      <td>0.0</td>\n",
       "      <td>4114.740234</td>\n",
       "      <td>4166.839844</td>\n",
       "      <td>4101.009766</td>\n",
       "    </tr>\n",
       "    <tr>\n",
       "      <th>...</th>\n",
       "      <td>...</td>\n",
       "      <td>...</td>\n",
       "      <td>...</td>\n",
       "      <td>...</td>\n",
       "      <td>...</td>\n",
       "      <td>...</td>\n",
       "      <td>...</td>\n",
       "    </tr>\n",
       "    <tr>\n",
       "      <th>2011-01-14</th>\n",
       "      <td>18860.439450</td>\n",
       "      <td>-0.9996</td>\n",
       "      <td>-0.9996</td>\n",
       "      <td>15800.0</td>\n",
       "      <td>19198.039060</td>\n",
       "      <td>19447.820310</td>\n",
       "      <td>18811.960940</td>\n",
       "    </tr>\n",
       "    <tr>\n",
       "      <th>2011-01-17</th>\n",
       "      <td>18882.250000</td>\n",
       "      <td>-0.9996</td>\n",
       "      <td>-0.9998</td>\n",
       "      <td>17800.0</td>\n",
       "      <td>18911.429690</td>\n",
       "      <td>19018.939450</td>\n",
       "      <td>18779.380860</td>\n",
       "    </tr>\n",
       "    <tr>\n",
       "      <th>2011-01-18</th>\n",
       "      <td>19092.050780</td>\n",
       "      <td>-0.9998</td>\n",
       "      <td>-0.9996</td>\n",
       "      <td>14400.0</td>\n",
       "      <td>18983.199220</td>\n",
       "      <td>19120.619140</td>\n",
       "      <td>18933.470700</td>\n",
       "    </tr>\n",
       "    <tr>\n",
       "      <th>2011-01-19</th>\n",
       "      <td>18978.320310</td>\n",
       "      <td>-0.9996</td>\n",
       "      <td>-0.9998</td>\n",
       "      <td>16200.0</td>\n",
       "      <td>19153.310550</td>\n",
       "      <td>19167.060550</td>\n",
       "      <td>18898.560550</td>\n",
       "    </tr>\n",
       "    <tr>\n",
       "      <th>2011-01-20</th>\n",
       "      <td>19046.539060</td>\n",
       "      <td>-0.9998</td>\n",
       "      <td>-0.9998</td>\n",
       "      <td>12800.0</td>\n",
       "      <td>18892.429690</td>\n",
       "      <td>19100.259770</td>\n",
       "      <td>18794.730470</td>\n",
       "    </tr>\n",
       "  </tbody>\n",
       "</table>\n",
       "<p>2455 rows × 7 columns</p>\n",
       "</div>"
      ],
      "text/plain": [
       "             close_price  compound  compound_shifted   volume    open_price  \\\n",
       "Date                                                                          \n",
       "2001-01-03   4060.020020    0.6322            0.6648      0.0   3977.580078   \n",
       "2001-01-04   4115.370117    0.6648            0.9253      0.0   4180.970215   \n",
       "2001-01-05   4183.729980    0.9253           -0.9638      0.0   4116.339844   \n",
       "2001-01-08   4120.430176   -0.9638           -0.9559      0.0   4164.759766   \n",
       "2001-01-09   4125.310059   -0.9559           -0.5719      0.0   4114.740234   \n",
       "...                  ...       ...               ...      ...           ...   \n",
       "2011-01-14  18860.439450   -0.9996           -0.9996  15800.0  19198.039060   \n",
       "2011-01-17  18882.250000   -0.9996           -0.9998  17800.0  18911.429690   \n",
       "2011-01-18  19092.050780   -0.9998           -0.9996  14400.0  18983.199220   \n",
       "2011-01-19  18978.320310   -0.9996           -0.9998  16200.0  19153.310550   \n",
       "2011-01-20  19046.539060   -0.9998           -0.9998  12800.0  18892.429690   \n",
       "\n",
       "                    high           low  \n",
       "Date                                    \n",
       "2001-01-03   4067.659912   3977.580078  \n",
       "2001-01-04   4180.970215   4109.549805  \n",
       "2001-01-05   4195.009766   4115.350098  \n",
       "2001-01-08   4206.720215   4101.529785  \n",
       "2001-01-09   4166.839844   4101.009766  \n",
       "...                  ...           ...  \n",
       "2011-01-14  19447.820310  18811.960940  \n",
       "2011-01-17  19018.939450  18779.380860  \n",
       "2011-01-18  19120.619140  18933.470700  \n",
       "2011-01-19  19167.060550  18898.560550  \n",
       "2011-01-20  19100.259770  18794.730470  \n",
       "\n",
       "[2455 rows x 7 columns]"
      ]
     },
     "execution_count": 29,
     "metadata": {},
     "output_type": "execute_result"
    }
   ],
   "source": [
    "# setting the features dataset for prediction  \n",
    "cols = ['close_price', 'compound', 'compound_shifted', 'volume', 'open_price', 'high', 'low']\n",
    "x = data[cols]\n",
    "x"
   ]
  },
  {
   "cell_type": "markdown",
   "metadata": {
    "id": "Q6GngkTogPso"
   },
   "source": [
    "# 7.3. Scaling the Target Variable and the Feature Dataset\n",
    "Since we are using LSTM to predict stock prices, which is a time series data, it is important to understand that LSTM can be very sensitive to the scale of the data. Right now, if the data is observed, it is present in different scales. Therefore, it is important to re-scale the data so that the range of the dataset is same, for almost all records. Here a feature range of (-1,1) is used."
   ]
  },
  {
   "cell_type": "code",
   "execution_count": 30,
   "metadata": {
    "colab": {
     "base_uri": "https://localhost:8080/"
    },
    "id": "NDjYWMiV4pwO",
    "outputId": "6e1fb477-e0cc-41d3-bdb9-e075ccb62e5a"
   },
   "outputs": [
    {
     "data": {
      "text/plain": [
       "(array([[-0.84072974,  0.6322    ,  0.6648    , ..., -0.85280301,\n",
       "         -0.85045817, -0.84851206],\n",
       "        [-0.83469123,  0.6648    ,  0.9253    , ..., -0.83071949,\n",
       "         -0.8382244 , -0.83405362],\n",
       "        [-0.82723339,  0.9253    , -0.9638    , ..., -0.83773687,\n",
       "         -0.83670859, -0.83341815],\n",
       "        ...,\n",
       "        [ 0.7992152 , -0.9998    , -0.9996    , ...,  0.77646445,\n",
       "          0.77476461,  0.79003626],\n",
       "        [ 0.78680758, -0.9996    , -0.9998    , ...,  0.79493465,\n",
       "          0.77977875,  0.78621155],\n",
       "        [ 0.79425002, -0.9998    , -0.9998    , ...,  0.76660895,\n",
       "          0.77256647,  0.77483606]]),\n",
       " array([[-0.83469123],\n",
       "        [-0.82723339],\n",
       "        [-0.83413919],\n",
       "        ...,\n",
       "        [ 0.78680758],\n",
       "        [ 0.79425002],\n",
       "        [ 0.78999418]]))"
      ]
     },
     "execution_count": 30,
     "metadata": {},
     "output_type": "execute_result"
    }
   ],
   "source": [
    "# scaling the feature dataset\n",
    "scaler_x = preprocessing.MinMaxScaler (feature_range=(-1, 1))\n",
    "x = np.array(x).reshape((len(x) ,len(cols)))\n",
    "x = scaler_x.fit_transform(x)\n",
    "\n",
    "# scaling the target variable\n",
    "scaler_y = preprocessing.MinMaxScaler (feature_range=(-1, 1))\n",
    "y = np.array (y).reshape ((len( y), 1))\n",
    "y = scaler_y.fit_transform (y)\n",
    "\n",
    "# displaying the scaled feature dataset and the target variable\n",
    "x, y"
   ]
  },
  {
   "cell_type": "markdown",
   "metadata": {
    "id": "_VYGqi9SgqbU"
   },
   "source": [
    "# 7.4. Dividing the dataset into Training and Test\n",
    "Normally for any other dataset train_test_split from sklearn package is used, but for time series data like stock prices which is dependent on date, the dataset is divided into train and test dataset in a different way as shown below. In timeseries data, an observation for a particular date is always dependent on the previous date records."
   ]
  },
  {
   "cell_type": "code",
   "execution_count": 31,
   "metadata": {
    "colab": {
     "base_uri": "https://localhost:8080/"
    },
    "id": "lN02_rI-4yHx",
    "outputId": "660dbadf-9348-4516-84ff-2703305eeea1"
   },
   "outputs": [
    {
     "name": "stdout",
     "output_type": "stream",
     "text": [
      "Number of rows and columns in the Training set X: (1964, 7) and y: (1964, 1)\n",
      "Number of rows and columns in the Test set X: (490, 7) and y: (490, 1)\n"
     ]
    }
   ],
   "source": [
    "# preparing training and test dataset\n",
    "X_train = x[0 : train_end,]\n",
    "X_test = x[train_end+1 : len(x),]    \n",
    "y_train = y[0 : train_end] \n",
    "y_test = y[train_end+1 : len(y)]  \n",
    "\n",
    "# printing the shape of the training and the test datasets\n",
    "print('Number of rows and columns in the Training set X:', X_train.shape, 'and y:', y_train.shape)\n",
    "print('Number of rows and columns in the Test set X:', X_test.shape, 'and y:', y_test.shape)"
   ]
  },
  {
   "cell_type": "code",
   "execution_count": 32,
   "metadata": {
    "colab": {
     "base_uri": "https://localhost:8080/"
    },
    "id": "Ui_-OIwb45NK",
    "outputId": "532bab47-01dc-4bcd-c564-f6886cefee02"
   },
   "outputs": [
    {
     "name": "stdout",
     "output_type": "stream",
     "text": [
      "Shape of Training set X: (1964, 7, 1)\n",
      "Shape of Test set X: (490, 7, 1)\n"
     ]
    }
   ],
   "source": [
    "# reshaping the feature dataset for feeding into the model\n",
    "X_train = X_train.reshape (X_train.shape + (1,)) \n",
    "X_test = X_test.reshape(X_test.shape + (1,))\n",
    "\n",
    "# printing the re-shaped feature dataset\n",
    "print('Shape of Training set X:', X_train.shape)\n",
    "print('Shape of Test set X:', X_test.shape)"
   ]
  },
  {
   "cell_type": "markdown",
   "metadata": {
    "id": "wdbCQr1dhBEv"
   },
   "source": [
    "\n",
    "# 9. Stock Data Modelling"
   ]
  },
  {
   "cell_type": "code",
   "execution_count": 70,
   "metadata": {
    "colab": {
     "base_uri": "https://localhost:8080/"
    },
    "id": "x8ES94cu4_ea",
    "outputId": "204ee868-31a5-4af4-9f84-e5a1939270e0"
   },
   "outputs": [
    {
     "name": "stdout",
     "output_type": "stream",
     "text": [
      "Model: \"sequential_5\"\n",
      "_________________________________________________________________\n",
      " Layer (type)                Output Shape              Param #   \n",
      "=================================================================\n",
      " lstm_15 (LSTM)              (None, 7, 100)            40800     \n",
      "                                                                 \n",
      " dropout_15 (Dropout)        (None, 7, 100)            0         \n",
      "                                                                 \n",
      " lstm_16 (LSTM)              (None, 7, 100)            80400     \n",
      "                                                                 \n",
      " dropout_16 (Dropout)        (None, 7, 100)            0         \n",
      "                                                                 \n",
      " lstm_17 (LSTM)              (None, 100)               80400     \n",
      "                                                                 \n",
      " dropout_17 (Dropout)        (None, 100)               0         \n",
      "                                                                 \n",
      " dense_5 (Dense)             (None, 1)                 101       \n",
      "                                                                 \n",
      "=================================================================\n",
      "Total params: 201,701\n",
      "Trainable params: 201,701\n",
      "Non-trainable params: 0\n",
      "_________________________________________________________________\n"
     ]
    }
   ],
   "source": [
    "# setting the seed to achieve consistent and less random predictions at each execution\n",
    "np.random.seed(2016)\n",
    "\n",
    "# setting the model architecture\n",
    "model=Sequential()\n",
    "model.add(LSTM(100,return_sequences=True,activation='tanh',input_shape=(len(cols),1)))\n",
    "model.add(Dropout(0.1))\n",
    "model.add(LSTM(100,return_sequences=True,activation='tanh'))\n",
    "model.add(Dropout(0.1))\n",
    "model.add(LSTM(100,activation='tanh'))\n",
    "model.add(Dropout(0.1))\n",
    "model.add(Dense(1))\n",
    "\n",
    "# printing the model summary\n",
    "model.summary()"
   ]
  },
  {
   "cell_type": "code",
   "execution_count": 71,
   "metadata": {
    "colab": {
     "base_uri": "https://localhost:8080/"
    },
    "id": "mLJXEVxr5Ksy",
    "outputId": "2d521567-a544-4acb-ac22-75ea313c2230"
   },
   "outputs": [
    {
     "name": "stdout",
     "output_type": "stream",
     "text": [
      "Epoch 1/50\n",
      "53/53 [==============================] - 15s 80ms/step - loss: 53444472.0000 - val_loss: 241523312.0000\n",
      "Epoch 2/50\n",
      "53/53 [==============================] - 2s 38ms/step - loss: 53322608.0000 - val_loss: 241342192.0000\n",
      "Epoch 3/50\n",
      "53/53 [==============================] - 2s 38ms/step - loss: 53249000.0000 - val_loss: 241171568.0000\n",
      "Epoch 4/50\n",
      "53/53 [==============================] - 2s 37ms/step - loss: 53179044.0000 - val_loss: 241006112.0000\n",
      "Epoch 5/50\n",
      "53/53 [==============================] - 2s 38ms/step - loss: 53109136.0000 - val_loss: 240839088.0000\n",
      "Epoch 6/50\n",
      "53/53 [==============================] - 2s 38ms/step - loss: 53039164.0000 - val_loss: 240674752.0000\n",
      "Epoch 7/50\n",
      "53/53 [==============================] - 2s 38ms/step - loss: 52971364.0000 - val_loss: 240512288.0000\n",
      "Epoch 8/50\n",
      "53/53 [==============================] - 2s 38ms/step - loss: 52903064.0000 - val_loss: 240350848.0000\n",
      "Epoch 9/50\n",
      "53/53 [==============================] - 2s 38ms/step - loss: 52835048.0000 - val_loss: 240190208.0000\n",
      "Epoch 10/50\n",
      "53/53 [==============================] - 2s 38ms/step - loss: 52769804.0000 - val_loss: 240029232.0000\n",
      "Epoch 11/50\n",
      "53/53 [==============================] - 2s 38ms/step - loss: 52703716.0000 - val_loss: 239870224.0000\n",
      "Epoch 12/50\n",
      "53/53 [==============================] - 2s 38ms/step - loss: 52633852.0000 - val_loss: 239710912.0000\n",
      "Epoch 13/50\n",
      "53/53 [==============================] - 2s 38ms/step - loss: 52567156.0000 - val_loss: 239551472.0000\n",
      "Epoch 14/50\n",
      "53/53 [==============================] - 2s 38ms/step - loss: 52501020.0000 - val_loss: 239392496.0000\n",
      "Epoch 15/50\n",
      "53/53 [==============================] - 2s 38ms/step - loss: 52436208.0000 - val_loss: 239233936.0000\n",
      "Epoch 16/50\n",
      "53/53 [==============================] - 2s 38ms/step - loss: 52370868.0000 - val_loss: 239075472.0000\n",
      "Epoch 17/50\n",
      "53/53 [==============================] - 2s 37ms/step - loss: 52300316.0000 - val_loss: 238917200.0000\n",
      "Epoch 18/50\n",
      "53/53 [==============================] - 2s 38ms/step - loss: 52237484.0000 - val_loss: 238758544.0000\n",
      "Epoch 19/50\n",
      "53/53 [==============================] - 2s 38ms/step - loss: 52166140.0000 - val_loss: 238600512.0000\n",
      "Epoch 20/50\n",
      "53/53 [==============================] - 2s 38ms/step - loss: 52103168.0000 - val_loss: 238443568.0000\n",
      "Epoch 21/50\n",
      "53/53 [==============================] - 2s 38ms/step - loss: 52040512.0000 - val_loss: 238285808.0000\n",
      "Epoch 22/50\n",
      "53/53 [==============================] - 2s 38ms/step - loss: 51975676.0000 - val_loss: 238129536.0000\n",
      "Epoch 23/50\n",
      "53/53 [==============================] - 2s 38ms/step - loss: 51909092.0000 - val_loss: 237972112.0000\n",
      "Epoch 24/50\n",
      "53/53 [==============================] - 2s 38ms/step - loss: 51844608.0000 - val_loss: 237815696.0000\n",
      "Epoch 25/50\n",
      "53/53 [==============================] - 2s 40ms/step - loss: 51778456.0000 - val_loss: 237658880.0000\n",
      "Epoch 26/50\n",
      "53/53 [==============================] - 2s 45ms/step - loss: 51714676.0000 - val_loss: 237503632.0000\n",
      "Epoch 27/50\n",
      "53/53 [==============================] - 2s 37ms/step - loss: 51650076.0000 - val_loss: 237346352.0000\n",
      "Epoch 28/50\n",
      "53/53 [==============================] - 2s 38ms/step - loss: 51583724.0000 - val_loss: 237190336.0000\n",
      "Epoch 29/50\n",
      "53/53 [==============================] - 2s 35ms/step - loss: 51520676.0000 - val_loss: 237033952.0000\n",
      "Epoch 30/50\n",
      "53/53 [==============================] - 2s 41ms/step - loss: 51459400.0000 - val_loss: 236879136.0000\n",
      "Epoch 31/50\n",
      "53/53 [==============================] - 2s 40ms/step - loss: 51390356.0000 - val_loss: 236722800.0000\n",
      "Epoch 32/50\n",
      "53/53 [==============================] - 2s 38ms/step - loss: 51327384.0000 - val_loss: 236567424.0000\n",
      "Epoch 33/50\n",
      "53/53 [==============================] - 2s 40ms/step - loss: 51260628.0000 - val_loss: 236410672.0000\n",
      "Epoch 34/50\n",
      "53/53 [==============================] - 2s 44ms/step - loss: 51195964.0000 - val_loss: 236255984.0000\n",
      "Epoch 35/50\n",
      "53/53 [==============================] - 2s 37ms/step - loss: 51132040.0000 - val_loss: 236101008.0000\n",
      "Epoch 36/50\n",
      "53/53 [==============================] - 2s 38ms/step - loss: 51069972.0000 - val_loss: 235944768.0000\n",
      "Epoch 37/50\n",
      "53/53 [==============================] - 2s 38ms/step - loss: 51005348.0000 - val_loss: 235790768.0000\n",
      "Epoch 38/50\n",
      "53/53 [==============================] - 2s 38ms/step - loss: 50934504.0000 - val_loss: 235632096.0000\n",
      "Epoch 39/50\n",
      "53/53 [==============================] - 2s 38ms/step - loss: 50870500.0000 - val_loss: 235468240.0000\n",
      "Epoch 40/50\n",
      "53/53 [==============================] - 2s 38ms/step - loss: 50810512.0000 - val_loss: 235309680.0000\n",
      "Epoch 41/50\n",
      "53/53 [==============================] - 2s 38ms/step - loss: 50743720.0000 - val_loss: 235149280.0000\n",
      "Epoch 42/50\n",
      "53/53 [==============================] - 2s 38ms/step - loss: 50671560.0000 - val_loss: 234992208.0000\n",
      "Epoch 43/50\n",
      "53/53 [==============================] - 2s 38ms/step - loss: 50615124.0000 - val_loss: 234834128.0000\n",
      "Epoch 44/50\n",
      "53/53 [==============================] - 2s 38ms/step - loss: 50551000.0000 - val_loss: 234676912.0000\n",
      "Epoch 45/50\n",
      "53/53 [==============================] - 2s 38ms/step - loss: 50483776.0000 - val_loss: 234520352.0000\n",
      "Epoch 46/50\n",
      "53/53 [==============================] - 2s 37ms/step - loss: 50417472.0000 - val_loss: 234362944.0000\n",
      "Epoch 47/50\n",
      "53/53 [==============================] - 2s 33ms/step - loss: 50353496.0000 - val_loss: 234205792.0000\n",
      "Epoch 48/50\n",
      "53/53 [==============================] - 1s 28ms/step - loss: 50287820.0000 - val_loss: 234049424.0000\n",
      "Epoch 49/50\n",
      "53/53 [==============================] - 2s 37ms/step - loss: 50226120.0000 - val_loss: 233893232.0000\n",
      "Epoch 50/50\n",
      "53/53 [==============================] - 2s 30ms/step - loss: 50159544.0000 - val_loss: 233737120.0000\n"
     ]
    },
    {
     "data": {
      "text/plain": [
       "<keras.callbacks.History at 0x24030ce5ba0>"
      ]
     },
     "execution_count": 71,
     "metadata": {},
     "output_type": "execute_result"
    }
   ],
   "source": [
    "# compiling the model\n",
    "model.compile(loss='mse' , optimizer='adam')\n",
    "\n",
    "# fitting the model using the training dataset\n",
    "model.fit(X_train, y_train, validation_split=0.2, epochs=50, batch_size=30, verbose=1)"
   ]
  },
  {
   "cell_type": "markdown",
   "metadata": {
    "id": "JfOfQYa1hJrx"
   },
   "source": [
    "# 9.1. Saving the Model to disk"
   ]
  },
  {
   "cell_type": "code",
   "execution_count": 72,
   "metadata": {
    "colab": {
     "base_uri": "https://localhost:8080/"
    },
    "id": "HSVsql_S5YNF",
    "outputId": "34cbf613-cd15-4504-fc76-d2698e6a6635"
   },
   "outputs": [
    {
     "name": "stdout",
     "output_type": "stream",
     "text": [
      "Model is saved to the disk\n"
     ]
    }
   ],
   "source": [
    "# saving the model as a json file\n",
    "model_json = model.to_json()\n",
    "with open('model.json', 'w') as json_file:\n",
    "    json_file.write(model_json)\n",
    "    \n",
    "# serialize weights to HDF5\n",
    "model.save_weights('model.h5')\n",
    "print('Model is saved to the disk')"
   ]
  },
  {
   "cell_type": "markdown",
   "metadata": {
    "id": "gv9JVpDMhSbF"
   },
   "source": [
    "# 10. Model Predictions"
   ]
  },
  {
   "cell_type": "code",
   "execution_count": 73,
   "metadata": {
    "colab": {
     "base_uri": "https://localhost:8080/"
    },
    "id": "oc-RHJ-85wQc",
    "outputId": "087c1124-e9cc-4433-f264-35a59ddf4999"
   },
   "outputs": [
    {
     "name": "stdout",
     "output_type": "stream",
     "text": [
      "16/16 [==============================] - 2s 13ms/step\n",
      "Predictions:\n"
     ]
    },
    {
     "data": {
      "text/plain": [
       "array([[-121929.23],\n",
       "       [-121931.73],\n",
       "       [-121934.41],\n",
       "       [-121933.93],\n",
       "       [-121951.36]], dtype=float32)"
      ]
     },
     "execution_count": 73,
     "metadata": {},
     "output_type": "execute_result"
    }
   ],
   "source": [
    "# performing predictions\n",
    "predictions = model.predict(X_test) \n",
    "\n",
    "# unscaling the predictions\n",
    "predictions = scaler_y.inverse_transform(np.array(predictions).reshape((len(predictions), 1)))\n",
    "\n",
    "# printing the predictions\n",
    "print('Predictions:')\n",
    "predictions[0:5]"
   ]
  },
  {
   "cell_type": "markdown",
   "metadata": {
    "id": "4hN3q90jhhRW"
   },
   "source": [
    "# 11. Model Evaluation"
   ]
  },
  {
   "cell_type": "code",
   "execution_count": 74,
   "metadata": {
    "colab": {
     "base_uri": "https://localhost:8080/"
    },
    "id": "q69P7BPO6LEN",
    "outputId": "3f9728e5-552f-48b9-8c18-c0e1e9101013"
   },
   "outputs": [
    {
     "name": "stdout",
     "output_type": "stream",
     "text": [
      "1964/1964 [==============================] - 14s 7ms/step - loss: 86866592.0000\n"
     ]
    },
    {
     "ename": "InvalidArgumentError",
     "evalue": "Graph execution error:\n\ntranspose expects a vector of size 2. But input(1) is a vector of size 3\n\t [[{{node transpose}}]]\n\t [[sequential_5/lstm_15/PartitionedCall]] [Op:__inference_test_function_156500]",
     "output_type": "error",
     "traceback": [
      "\u001b[1;31m---------------------------------------------------------------------------\u001b[0m",
      "\u001b[1;31mInvalidArgumentError\u001b[0m                      Traceback (most recent call last)",
      "Cell \u001b[1;32mIn[74], line 5\u001b[0m\n\u001b[0;32m      2\u001b[0m train_loss \u001b[38;5;241m=\u001b[39m model\u001b[38;5;241m.\u001b[39mevaluate(X_train, y_train, batch_size \u001b[38;5;241m=\u001b[39m \u001b[38;5;241m1\u001b[39m)\n\u001b[0;32m      4\u001b[0m \u001b[38;5;66;03m# calculating the test mean-squared-error\u001b[39;00m\n\u001b[1;32m----> 5\u001b[0m test_loss \u001b[38;5;241m=\u001b[39m \u001b[43mmodel\u001b[49m\u001b[38;5;241;43m.\u001b[39;49m\u001b[43mevaluate\u001b[49m\u001b[43m(\u001b[49m\u001b[43mX_test\u001b[49m\u001b[43m,\u001b[49m\u001b[43m \u001b[49m\u001b[43my_test\u001b[49m\u001b[43m,\u001b[49m\u001b[43m \u001b[49m\u001b[43mbatch_size\u001b[49m\u001b[43m \u001b[49m\u001b[38;5;241;43m=\u001b[39;49m\u001b[43m \u001b[49m\u001b[38;5;241;43m1\u001b[39;49m\u001b[43m)\u001b[49m\n\u001b[0;32m      7\u001b[0m \u001b[38;5;66;03m# printing the training and the test mean-squared-errors\u001b[39;00m\n\u001b[0;32m      8\u001b[0m \u001b[38;5;28mprint\u001b[39m(\u001b[38;5;124m'\u001b[39m\u001b[38;5;124mTrain Loss =\u001b[39m\u001b[38;5;124m'\u001b[39m, \u001b[38;5;28mround\u001b[39m(train_loss,\u001b[38;5;241m4\u001b[39m))\n",
      "File \u001b[1;32m~\\AppData\\Local\\Programs\\Python\\Python310\\lib\\site-packages\\keras\\utils\\traceback_utils.py:70\u001b[0m, in \u001b[0;36mfilter_traceback.<locals>.error_handler\u001b[1;34m(*args, **kwargs)\u001b[0m\n\u001b[0;32m     67\u001b[0m     filtered_tb \u001b[38;5;241m=\u001b[39m _process_traceback_frames(e\u001b[38;5;241m.\u001b[39m__traceback__)\n\u001b[0;32m     68\u001b[0m     \u001b[38;5;66;03m# To get the full stack trace, call:\u001b[39;00m\n\u001b[0;32m     69\u001b[0m     \u001b[38;5;66;03m# `tf.debugging.disable_traceback_filtering()`\u001b[39;00m\n\u001b[1;32m---> 70\u001b[0m     \u001b[38;5;28;01mraise\u001b[39;00m e\u001b[38;5;241m.\u001b[39mwith_traceback(filtered_tb) \u001b[38;5;28;01mfrom\u001b[39;00m \u001b[38;5;28mNone\u001b[39m\n\u001b[0;32m     71\u001b[0m \u001b[38;5;28;01mfinally\u001b[39;00m:\n\u001b[0;32m     72\u001b[0m     \u001b[38;5;28;01mdel\u001b[39;00m filtered_tb\n",
      "File \u001b[1;32m~\\AppData\\Local\\Programs\\Python\\Python310\\lib\\site-packages\\tensorflow\\python\\eager\\execute.py:52\u001b[0m, in \u001b[0;36mquick_execute\u001b[1;34m(op_name, num_outputs, inputs, attrs, ctx, name)\u001b[0m\n\u001b[0;32m     50\u001b[0m \u001b[38;5;28;01mtry\u001b[39;00m:\n\u001b[0;32m     51\u001b[0m   ctx\u001b[38;5;241m.\u001b[39mensure_initialized()\n\u001b[1;32m---> 52\u001b[0m   tensors \u001b[38;5;241m=\u001b[39m pywrap_tfe\u001b[38;5;241m.\u001b[39mTFE_Py_Execute(ctx\u001b[38;5;241m.\u001b[39m_handle, device_name, op_name,\n\u001b[0;32m     53\u001b[0m                                       inputs, attrs, num_outputs)\n\u001b[0;32m     54\u001b[0m \u001b[38;5;28;01mexcept\u001b[39;00m core\u001b[38;5;241m.\u001b[39m_NotOkStatusException \u001b[38;5;28;01mas\u001b[39;00m e:\n\u001b[0;32m     55\u001b[0m   \u001b[38;5;28;01mif\u001b[39;00m name \u001b[38;5;129;01mis\u001b[39;00m \u001b[38;5;129;01mnot\u001b[39;00m \u001b[38;5;28;01mNone\u001b[39;00m:\n",
      "\u001b[1;31mInvalidArgumentError\u001b[0m: Graph execution error:\n\ntranspose expects a vector of size 2. But input(1) is a vector of size 3\n\t [[{{node transpose}}]]\n\t [[sequential_5/lstm_15/PartitionedCall]] [Op:__inference_test_function_156500]"
     ]
    }
   ],
   "source": [
    "# calculating the training mean-squared-error\n",
    "train_loss = model.evaluate(X_train, y_train, batch_size = 1)\n",
    "\n",
    "# calculating the test mean-squared-error\n",
    "test_loss = model.evaluate(X_test, y_test, batch_size = 1)\n",
    "\n",
    "# printing the training and the test mean-squared-errors\n",
    "print('Train Loss =', round(train_loss,4))\n",
    "print('Test Loss =', round(test_loss,4))"
   ]
  },
  {
   "cell_type": "code",
   "execution_count": 62,
   "metadata": {
    "colab": {
     "base_uri": "https://localhost:8080/"
    },
    "id": "qfS1YT0D6UFp",
    "outputId": "65039657-2979-45cb-feba-c7cc501f7808"
   },
   "outputs": [
    {
     "name": "stdout",
     "output_type": "stream",
     "text": [
      "Root Mean Square Error = 16513.1716\n"
     ]
    }
   ],
   "source": [
    "# calculating root mean squared error\n",
    "root_mean_square_error = np.sqrt(np.mean(np.power((y_test - predictions),2)))\n",
    "print('Root Mean Square Error =', round(root_mean_square_error,4))"
   ]
  },
  {
   "cell_type": "code",
   "execution_count": 63,
   "metadata": {
    "colab": {
     "base_uri": "https://localhost:8080/"
    },
    "id": "PuhTITye6axi",
    "outputId": "882febbc-a9a2-4c97-bb3c-5b26e9fbd4f0"
   },
   "outputs": [
    {
     "name": "stdout",
     "output_type": "stream",
     "text": [
      "Root Mean Square Error (sklearn.metrics) = 16513.1716\n"
     ]
    }
   ],
   "source": [
    "# calculating root mean squared error using sklearn.metrics package\n",
    "rmse = metrics.mean_squared_error(y_test, predictions)\n",
    "print('Root Mean Square Error (sklearn.metrics) =', round(np.sqrt(rmse),4))"
   ]
  },
  {
   "cell_type": "code",
   "execution_count": 68,
   "metadata": {},
   "outputs": [
    {
     "name": "stdout",
     "output_type": "stream",
     "text": [
      "Accuracy: -422.86%\n"
     ]
    }
   ],
   "source": [
    "from sklearn.metrics import mean_squared_error\n",
    "import numpy as np\n",
    "\n",
    "# y_test are the actual target values from the testing set\n",
    "# predictions are the predicted target values from your model\n",
    "#rmse = np.sqrt(mean_squared_error(y_test, predictions))\n",
    "\n",
    "# Calculate the mean of the target variable\n",
    "y_mean = np.mean(y_test)\n",
    "\n",
    "# Calculate the RMSE of the mean baseline model\n",
    "baseline_rmse = np.sqrt(mean_squared_error(y_test, np.full_like(y_test, y_mean)))\n",
    "\n",
    "# Calculate the percentage improvement of the model compared to the mean baseline\n",
    "accuracy_percentage = (1 - rmse / baseline_rmse) * 100\n",
    "\n",
    "print(f\"Accuracy: {accuracy_percentage:.2f}%\")"
   ]
  },
  {
   "cell_type": "markdown",
   "metadata": {
    "id": "MwJ-GFzZhsoN"
   },
   "source": [
    "# 12. Plotting the Predictions against unseen data"
   ]
  },
  {
   "cell_type": "code",
   "execution_count": 65,
   "metadata": {
    "id": "J48C9iK_6hdN"
   },
   "outputs": [],
   "source": [
    "# unscaling the test feature dataset, x_test\n",
    "X_test = scaler_x.inverse_transform(np.array(X_test).reshape((len(X_test), len(cols))))\n",
    "\n",
    "# unscaling the test y dataset, y_test\n",
    "y_train = scaler_y.inverse_transform(np.array(y_train).reshape((len(y_train), 1)))\n",
    "y_test = scaler_y.inverse_transform(np.array(y_test).reshape((len(y_test), 1)))"
   ]
  },
  {
   "cell_type": "code",
   "execution_count": 66,
   "metadata": {
    "colab": {
     "base_uri": "https://localhost:8080/",
     "height": 625
    },
    "id": "o1s6BX_T6tWb",
    "outputId": "09f1f46f-721b-4ec5-9a1d-d4ed95eef67b"
   },
   "outputs": [
    {
     "data": {
      "image/png": "[encoded data removed]",
      "text/plain": [
       "<Figure size 1600x1000 with 1 Axes>"
      ]
     },
     "metadata": {},
     "output_type": "display_data"
    }
   ],
   "source": [
    "# plotting\n",
    "plt.figure(figsize=(16,10))\n",
    "\n",
    "# plt.plot([row[0] for row in y_train], label=\"Training Close Price\")\n",
    "plt.plot(predictions, label=\"Predicted Close Price\")\n",
    "plt.plot([row[0] for row in y_test], label=\"Testing Close Price\")\n",
    "plt.legend(loc='upper center', bbox_to_anchor=(0.5, -0.05), fancybox=True, shadow=True, ncol=2)\n",
    "plt.show()"
   ]
  },
  {
   "cell_type": "code",
   "execution_count": null,
   "metadata": {},
   "outputs": [],
   "source": []
  }
 ],
 "metadata": {
  "accelerator": "TPU",
  "colab": {
   "name": "Stock_market_prediction.ipynb",
   "provenance": []
  },
  "kernelspec": {
   "display_name": "Python 3 (ipykernel)",
   "language": "python",
   "name": "python3"
  },
  "language_info": {
   "codemirror_mode": {
    "name": "ipython",
    "version": 3
   },
   "file_extension": ".py",
   "mimetype": "text/x-python",
   "name": "python",
   "nbconvert_exporter": "python",
   "pygments_lexer": "ipython3",
   "version": "3.10.10"
  }
 },
 "nbformat": 4,
 "nbformat_minor": 1
}
